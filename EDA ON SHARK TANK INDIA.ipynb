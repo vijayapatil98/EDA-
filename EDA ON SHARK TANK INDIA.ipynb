{
 "cells": [
  {
   "cell_type": "markdown",
   "id": "b31fc180",
   "metadata": {},
   "source": [
    "# EDA of Shark Tank India."
   ]
  },
  {
   "cell_type": "markdown",
   "id": "771e6b35",
   "metadata": {},
   "source": [
    "# Import Libraries"
   ]
  },
  {
   "cell_type": "code",
   "execution_count": 1,
   "id": "7dc10d0d",
   "metadata": {},
   "outputs": [],
   "source": [
    "#importing Required library \n",
    "import pandas as pd\n",
    "import numpy as np\n",
    "import seaborn as sns\n",
    "import matplotlib.pyplot as plt\n",
    "%matplotlib inline"
   ]
  },
  {
   "cell_type": "code",
   "execution_count": 2,
   "id": "300d28d3",
   "metadata": {},
   "outputs": [
    {
     "data": {
      "text/html": [
       "        <script type=\"text/javascript\">\n",
       "        window.PlotlyConfig = {MathJaxConfig: 'local'};\n",
       "        if (window.MathJax) {MathJax.Hub.Config({SVG: {font: \"STIX-Web\"}});}\n",
       "        if (typeof require !== 'undefined') {\n",
       "        require.undef(\"plotly\");\n",
       "        requirejs.config({\n",
       "            paths: {\n",
       "                'plotly': ['https://cdn.plot.ly/plotly-2.9.0.min']\n",
       "            }\n",
       "        });\n",
       "        require(['plotly'], function(Plotly) {\n",
       "            window._Plotly = Plotly;\n",
       "        });\n",
       "        }\n",
       "        </script>\n",
       "        "
      ]
     },
     "metadata": {},
     "output_type": "display_data"
    },
    {
     "data": {
      "text/html": [
       "        <script type=\"text/javascript\">\n",
       "        window.PlotlyConfig = {MathJaxConfig: 'local'};\n",
       "        if (window.MathJax) {MathJax.Hub.Config({SVG: {font: \"STIX-Web\"}});}\n",
       "        if (typeof require !== 'undefined') {\n",
       "        require.undef(\"plotly\");\n",
       "        requirejs.config({\n",
       "            paths: {\n",
       "                'plotly': ['https://cdn.plot.ly/plotly-2.9.0.min']\n",
       "            }\n",
       "        });\n",
       "        require(['plotly'], function(Plotly) {\n",
       "            window._Plotly = Plotly;\n",
       "        });\n",
       "        }\n",
       "        </script>\n",
       "        "
      ]
     },
     "metadata": {},
     "output_type": "display_data"
    }
   ],
   "source": [
    "#importing plotly Library\n",
    "from plotly.offline import iplot\n",
    "import plotly as py\n",
    "import plotly.tools as tls\n",
    "import cufflinks as cf\n",
    "py.offline.init_notebook_mode(connected=True) #Turning on notebook mode \n",
    "cf.go_offline()"
   ]
  },
  {
   "cell_type": "markdown",
   "id": "e2cb6e0d",
   "metadata": {},
   "source": [
    "# To read File using Pandas¶"
   ]
  },
  {
   "cell_type": "code",
   "execution_count": 3,
   "id": "2492e693",
   "metadata": {},
   "outputs": [],
   "source": [
    "df=pd.read_csv(r\"C:\\Users\\Lenovo\\Desktop\\Shark Tank India Dataset.csv\")"
   ]
  },
  {
   "cell_type": "code",
   "execution_count": 4,
   "id": "d4122d44",
   "metadata": {},
   "outputs": [
    {
     "data": {
      "text/html": [
       "<div>\n",
       "<style scoped>\n",
       "    .dataframe tbody tr th:only-of-type {\n",
       "        vertical-align: middle;\n",
       "    }\n",
       "\n",
       "    .dataframe tbody tr th {\n",
       "        vertical-align: top;\n",
       "    }\n",
       "\n",
       "    .dataframe thead th {\n",
       "        text-align: right;\n",
       "    }\n",
       "</style>\n",
       "<table border=\"1\" class=\"dataframe\">\n",
       "  <thead>\n",
       "    <tr style=\"text-align: right;\">\n",
       "      <th></th>\n",
       "      <th>episode_number</th>\n",
       "      <th>pitch_number</th>\n",
       "      <th>brand_name</th>\n",
       "      <th>idea</th>\n",
       "      <th>deal</th>\n",
       "      <th>pitcher_ask_amount</th>\n",
       "      <th>ask_equity</th>\n",
       "      <th>ask_valuation</th>\n",
       "      <th>deal_amount</th>\n",
       "      <th>deal_equity</th>\n",
       "      <th>...</th>\n",
       "      <th>ashneer_deal</th>\n",
       "      <th>anupam_deal</th>\n",
       "      <th>aman_deal</th>\n",
       "      <th>namita_deal</th>\n",
       "      <th>vineeta_deal</th>\n",
       "      <th>peyush_deal</th>\n",
       "      <th>ghazal_deal</th>\n",
       "      <th>total_sharks_invested</th>\n",
       "      <th>amount_per_shark</th>\n",
       "      <th>equity_per_shark</th>\n",
       "    </tr>\n",
       "  </thead>\n",
       "  <tbody>\n",
       "    <tr>\n",
       "      <th>0</th>\n",
       "      <td>1</td>\n",
       "      <td>1</td>\n",
       "      <td>BluePine Industries</td>\n",
       "      <td>Frozen Momos</td>\n",
       "      <td>1</td>\n",
       "      <td>50.0</td>\n",
       "      <td>5.0</td>\n",
       "      <td>1000.00</td>\n",
       "      <td>75.0</td>\n",
       "      <td>16.00</td>\n",
       "      <td>...</td>\n",
       "      <td>1</td>\n",
       "      <td>0</td>\n",
       "      <td>1</td>\n",
       "      <td>0</td>\n",
       "      <td>1</td>\n",
       "      <td>0</td>\n",
       "      <td>0</td>\n",
       "      <td>3</td>\n",
       "      <td>25.0</td>\n",
       "      <td>5.333333</td>\n",
       "    </tr>\n",
       "    <tr>\n",
       "      <th>1</th>\n",
       "      <td>1</td>\n",
       "      <td>2</td>\n",
       "      <td>Booz scooters</td>\n",
       "      <td>Renting e-bike for mobility in private spaces</td>\n",
       "      <td>1</td>\n",
       "      <td>40.0</td>\n",
       "      <td>15.0</td>\n",
       "      <td>266.67</td>\n",
       "      <td>40.0</td>\n",
       "      <td>50.00</td>\n",
       "      <td>...</td>\n",
       "      <td>1</td>\n",
       "      <td>0</td>\n",
       "      <td>0</td>\n",
       "      <td>0</td>\n",
       "      <td>1</td>\n",
       "      <td>0</td>\n",
       "      <td>0</td>\n",
       "      <td>2</td>\n",
       "      <td>20.0</td>\n",
       "      <td>25.000000</td>\n",
       "    </tr>\n",
       "    <tr>\n",
       "      <th>2</th>\n",
       "      <td>1</td>\n",
       "      <td>3</td>\n",
       "      <td>Heart up my Sleeves</td>\n",
       "      <td>Detachable Sleeves</td>\n",
       "      <td>1</td>\n",
       "      <td>25.0</td>\n",
       "      <td>10.0</td>\n",
       "      <td>250.00</td>\n",
       "      <td>25.0</td>\n",
       "      <td>30.00</td>\n",
       "      <td>...</td>\n",
       "      <td>0</td>\n",
       "      <td>1</td>\n",
       "      <td>0</td>\n",
       "      <td>0</td>\n",
       "      <td>1</td>\n",
       "      <td>0</td>\n",
       "      <td>0</td>\n",
       "      <td>2</td>\n",
       "      <td>12.5</td>\n",
       "      <td>15.000000</td>\n",
       "    </tr>\n",
       "    <tr>\n",
       "      <th>3</th>\n",
       "      <td>2</td>\n",
       "      <td>4</td>\n",
       "      <td>Tagz Foods</td>\n",
       "      <td>Healthy Potato Chips</td>\n",
       "      <td>1</td>\n",
       "      <td>70.0</td>\n",
       "      <td>1.0</td>\n",
       "      <td>7000.00</td>\n",
       "      <td>70.0</td>\n",
       "      <td>2.75</td>\n",
       "      <td>...</td>\n",
       "      <td>1</td>\n",
       "      <td>0</td>\n",
       "      <td>0</td>\n",
       "      <td>0</td>\n",
       "      <td>0</td>\n",
       "      <td>0</td>\n",
       "      <td>0</td>\n",
       "      <td>1</td>\n",
       "      <td>70.0</td>\n",
       "      <td>2.750000</td>\n",
       "    </tr>\n",
       "    <tr>\n",
       "      <th>4</th>\n",
       "      <td>2</td>\n",
       "      <td>5</td>\n",
       "      <td>Head and Heart</td>\n",
       "      <td>Brain Development Course</td>\n",
       "      <td>0</td>\n",
       "      <td>50.0</td>\n",
       "      <td>5.0</td>\n",
       "      <td>1000.00</td>\n",
       "      <td>0.0</td>\n",
       "      <td>0.00</td>\n",
       "      <td>...</td>\n",
       "      <td>0</td>\n",
       "      <td>0</td>\n",
       "      <td>0</td>\n",
       "      <td>0</td>\n",
       "      <td>0</td>\n",
       "      <td>0</td>\n",
       "      <td>0</td>\n",
       "      <td>0</td>\n",
       "      <td>0.0</td>\n",
       "      <td>0.000000</td>\n",
       "    </tr>\n",
       "    <tr>\n",
       "      <th>...</th>\n",
       "      <td>...</td>\n",
       "      <td>...</td>\n",
       "      <td>...</td>\n",
       "      <td>...</td>\n",
       "      <td>...</td>\n",
       "      <td>...</td>\n",
       "      <td>...</td>\n",
       "      <td>...</td>\n",
       "      <td>...</td>\n",
       "      <td>...</td>\n",
       "      <td>...</td>\n",
       "      <td>...</td>\n",
       "      <td>...</td>\n",
       "      <td>...</td>\n",
       "      <td>...</td>\n",
       "      <td>...</td>\n",
       "      <td>...</td>\n",
       "      <td>...</td>\n",
       "      <td>...</td>\n",
       "      <td>...</td>\n",
       "      <td>...</td>\n",
       "    </tr>\n",
       "    <tr>\n",
       "      <th>112</th>\n",
       "      <td>34</td>\n",
       "      <td>113</td>\n",
       "      <td>Green Protein</td>\n",
       "      <td>Plant-Based Protein</td>\n",
       "      <td>0</td>\n",
       "      <td>60.0</td>\n",
       "      <td>2.0</td>\n",
       "      <td>3000.00</td>\n",
       "      <td>0.0</td>\n",
       "      <td>0.00</td>\n",
       "      <td>...</td>\n",
       "      <td>0</td>\n",
       "      <td>0</td>\n",
       "      <td>0</td>\n",
       "      <td>0</td>\n",
       "      <td>0</td>\n",
       "      <td>0</td>\n",
       "      <td>0</td>\n",
       "      <td>0</td>\n",
       "      <td>0.0</td>\n",
       "      <td>0.000000</td>\n",
       "    </tr>\n",
       "    <tr>\n",
       "      <th>113</th>\n",
       "      <td>34</td>\n",
       "      <td>114</td>\n",
       "      <td>On2Cook</td>\n",
       "      <td>Fastest Cooking Device</td>\n",
       "      <td>0</td>\n",
       "      <td>100.0</td>\n",
       "      <td>1.0</td>\n",
       "      <td>10000.00</td>\n",
       "      <td>0.0</td>\n",
       "      <td>0.00</td>\n",
       "      <td>...</td>\n",
       "      <td>0</td>\n",
       "      <td>0</td>\n",
       "      <td>0</td>\n",
       "      <td>0</td>\n",
       "      <td>0</td>\n",
       "      <td>0</td>\n",
       "      <td>0</td>\n",
       "      <td>0</td>\n",
       "      <td>0.0</td>\n",
       "      <td>0.000000</td>\n",
       "    </tr>\n",
       "    <tr>\n",
       "      <th>114</th>\n",
       "      <td>35</td>\n",
       "      <td>115</td>\n",
       "      <td>Jain Shikanji</td>\n",
       "      <td>Lemonade</td>\n",
       "      <td>1</td>\n",
       "      <td>40.0</td>\n",
       "      <td>8.0</td>\n",
       "      <td>500.00</td>\n",
       "      <td>40.0</td>\n",
       "      <td>30.00</td>\n",
       "      <td>...</td>\n",
       "      <td>1</td>\n",
       "      <td>1</td>\n",
       "      <td>1</td>\n",
       "      <td>0</td>\n",
       "      <td>1</td>\n",
       "      <td>0</td>\n",
       "      <td>0</td>\n",
       "      <td>4</td>\n",
       "      <td>10.0</td>\n",
       "      <td>7.500000</td>\n",
       "    </tr>\n",
       "    <tr>\n",
       "      <th>115</th>\n",
       "      <td>35</td>\n",
       "      <td>116</td>\n",
       "      <td>Woloo</td>\n",
       "      <td>Washroom Finder</td>\n",
       "      <td>0</td>\n",
       "      <td>50.0</td>\n",
       "      <td>4.0</td>\n",
       "      <td>1250.00</td>\n",
       "      <td>0.0</td>\n",
       "      <td>0.00</td>\n",
       "      <td>...</td>\n",
       "      <td>0</td>\n",
       "      <td>0</td>\n",
       "      <td>0</td>\n",
       "      <td>0</td>\n",
       "      <td>0</td>\n",
       "      <td>0</td>\n",
       "      <td>0</td>\n",
       "      <td>0</td>\n",
       "      <td>0.0</td>\n",
       "      <td>0.000000</td>\n",
       "    </tr>\n",
       "    <tr>\n",
       "      <th>116</th>\n",
       "      <td>35</td>\n",
       "      <td>117</td>\n",
       "      <td>Elcare India</td>\n",
       "      <td>Carenting for Elders</td>\n",
       "      <td>0</td>\n",
       "      <td>100.0</td>\n",
       "      <td>2.5</td>\n",
       "      <td>4000.00</td>\n",
       "      <td>0.0</td>\n",
       "      <td>0.00</td>\n",
       "      <td>...</td>\n",
       "      <td>0</td>\n",
       "      <td>0</td>\n",
       "      <td>0</td>\n",
       "      <td>0</td>\n",
       "      <td>0</td>\n",
       "      <td>0</td>\n",
       "      <td>0</td>\n",
       "      <td>0</td>\n",
       "      <td>0.0</td>\n",
       "      <td>0.000000</td>\n",
       "    </tr>\n",
       "  </tbody>\n",
       "</table>\n",
       "<p>117 rows × 28 columns</p>\n",
       "</div>"
      ],
      "text/plain": [
       "     episode_number  pitch_number           brand_name  \\\n",
       "0                 1             1  BluePine Industries   \n",
       "1                 1             2        Booz scooters   \n",
       "2                 1             3  Heart up my Sleeves   \n",
       "3                 2             4           Tagz Foods   \n",
       "4                 2             5       Head and Heart   \n",
       "..              ...           ...                  ...   \n",
       "112              34           113        Green Protein   \n",
       "113              34           114              On2Cook   \n",
       "114              35           115        Jain Shikanji   \n",
       "115              35           116                Woloo   \n",
       "116              35           117         Elcare India   \n",
       "\n",
       "                                              idea  deal  pitcher_ask_amount  \\\n",
       "0                                     Frozen Momos     1                50.0   \n",
       "1    Renting e-bike for mobility in private spaces     1                40.0   \n",
       "2                               Detachable Sleeves     1                25.0   \n",
       "3                             Healthy Potato Chips     1                70.0   \n",
       "4                         Brain Development Course     0                50.0   \n",
       "..                                             ...   ...                 ...   \n",
       "112                            Plant-Based Protein     0                60.0   \n",
       "113                         Fastest Cooking Device     0               100.0   \n",
       "114                                       Lemonade     1                40.0   \n",
       "115                                Washroom Finder     0                50.0   \n",
       "116                           Carenting for Elders     0               100.0   \n",
       "\n",
       "     ask_equity  ask_valuation  deal_amount  deal_equity  ...  ashneer_deal  \\\n",
       "0           5.0        1000.00         75.0        16.00  ...             1   \n",
       "1          15.0         266.67         40.0        50.00  ...             1   \n",
       "2          10.0         250.00         25.0        30.00  ...             0   \n",
       "3           1.0        7000.00         70.0         2.75  ...             1   \n",
       "4           5.0        1000.00          0.0         0.00  ...             0   \n",
       "..          ...            ...          ...          ...  ...           ...   \n",
       "112         2.0        3000.00          0.0         0.00  ...             0   \n",
       "113         1.0       10000.00          0.0         0.00  ...             0   \n",
       "114         8.0         500.00         40.0        30.00  ...             1   \n",
       "115         4.0        1250.00          0.0         0.00  ...             0   \n",
       "116         2.5        4000.00          0.0         0.00  ...             0   \n",
       "\n",
       "     anupam_deal  aman_deal  namita_deal  vineeta_deal  peyush_deal  \\\n",
       "0              0          1            0             1            0   \n",
       "1              0          0            0             1            0   \n",
       "2              1          0            0             1            0   \n",
       "3              0          0            0             0            0   \n",
       "4              0          0            0             0            0   \n",
       "..           ...        ...          ...           ...          ...   \n",
       "112            0          0            0             0            0   \n",
       "113            0          0            0             0            0   \n",
       "114            1          1            0             1            0   \n",
       "115            0          0            0             0            0   \n",
       "116            0          0            0             0            0   \n",
       "\n",
       "     ghazal_deal  total_sharks_invested  amount_per_shark  equity_per_shark  \n",
       "0              0                      3              25.0          5.333333  \n",
       "1              0                      2              20.0         25.000000  \n",
       "2              0                      2              12.5         15.000000  \n",
       "3              0                      1              70.0          2.750000  \n",
       "4              0                      0               0.0          0.000000  \n",
       "..           ...                    ...               ...               ...  \n",
       "112            0                      0               0.0          0.000000  \n",
       "113            0                      0               0.0          0.000000  \n",
       "114            0                      4              10.0          7.500000  \n",
       "115            0                      0               0.0          0.000000  \n",
       "116            0                      0               0.0          0.000000  \n",
       "\n",
       "[117 rows x 28 columns]"
      ]
     },
     "execution_count": 4,
     "metadata": {},
     "output_type": "execute_result"
    }
   ],
   "source": [
    "df"
   ]
  },
  {
   "cell_type": "raw",
   "id": "6711bf52",
   "metadata": {},
   "source": [
    "This dataset contains information about First Season of Shark Tank India \n",
    "The columns in the given dataset are as follows:\n",
    "\n",
    "Episode Number\n",
    "Pitch Number\n",
    "Brand Name\n",
    "Idea\n",
    "Deal\n",
    "Pitcher Ask Amount\n",
    "Ask Equity\n",
    "Ask VAluation\n",
    "Deal Amount\n",
    "Deal Equity\n",
    "Ashneer Deal\n",
    "Anupam Deal\n",
    "Aman Deal\n",
    "Nameeta Deal\n",
    "Vineeta Dael\n",
    "Peyush Deal\n",
    "Ghazal Deal\n",
    "Total Shark Invested\n",
    "Amount Per Shark  Invested\n",
    "Equity Per Shark"
   ]
  },
  {
   "cell_type": "markdown",
   "id": "9139d424",
   "metadata": {},
   "source": [
    "# Size of Raws and Columns using shape"
   ]
  },
  {
   "cell_type": "code",
   "execution_count": 5,
   "id": "11a13122",
   "metadata": {},
   "outputs": [
    {
     "data": {
      "text/plain": [
       "(117, 28)"
      ]
     },
     "execution_count": 5,
     "metadata": {},
     "output_type": "execute_result"
    }
   ],
   "source": [
    "df.shape"
   ]
  },
  {
   "cell_type": "markdown",
   "id": "b416d53a",
   "metadata": {},
   "source": [
    "In the given Dataset, Total Rows are 117 and 28 are columns."
   ]
  },
  {
   "cell_type": "markdown",
   "id": "370b93fe",
   "metadata": {},
   "source": [
    "# First top5 Observation using head function."
   ]
  },
  {
   "cell_type": "code",
   "execution_count": 6,
   "id": "21adea41",
   "metadata": {},
   "outputs": [
    {
     "data": {
      "text/html": [
       "<div>\n",
       "<style scoped>\n",
       "    .dataframe tbody tr th:only-of-type {\n",
       "        vertical-align: middle;\n",
       "    }\n",
       "\n",
       "    .dataframe tbody tr th {\n",
       "        vertical-align: top;\n",
       "    }\n",
       "\n",
       "    .dataframe thead th {\n",
       "        text-align: right;\n",
       "    }\n",
       "</style>\n",
       "<table border=\"1\" class=\"dataframe\">\n",
       "  <thead>\n",
       "    <tr style=\"text-align: right;\">\n",
       "      <th></th>\n",
       "      <th>episode_number</th>\n",
       "      <th>pitch_number</th>\n",
       "      <th>brand_name</th>\n",
       "      <th>idea</th>\n",
       "      <th>deal</th>\n",
       "      <th>pitcher_ask_amount</th>\n",
       "      <th>ask_equity</th>\n",
       "      <th>ask_valuation</th>\n",
       "      <th>deal_amount</th>\n",
       "      <th>deal_equity</th>\n",
       "      <th>...</th>\n",
       "      <th>ashneer_deal</th>\n",
       "      <th>anupam_deal</th>\n",
       "      <th>aman_deal</th>\n",
       "      <th>namita_deal</th>\n",
       "      <th>vineeta_deal</th>\n",
       "      <th>peyush_deal</th>\n",
       "      <th>ghazal_deal</th>\n",
       "      <th>total_sharks_invested</th>\n",
       "      <th>amount_per_shark</th>\n",
       "      <th>equity_per_shark</th>\n",
       "    </tr>\n",
       "  </thead>\n",
       "  <tbody>\n",
       "    <tr>\n",
       "      <th>0</th>\n",
       "      <td>1</td>\n",
       "      <td>1</td>\n",
       "      <td>BluePine Industries</td>\n",
       "      <td>Frozen Momos</td>\n",
       "      <td>1</td>\n",
       "      <td>50.0</td>\n",
       "      <td>5.0</td>\n",
       "      <td>1000.00</td>\n",
       "      <td>75.0</td>\n",
       "      <td>16.00</td>\n",
       "      <td>...</td>\n",
       "      <td>1</td>\n",
       "      <td>0</td>\n",
       "      <td>1</td>\n",
       "      <td>0</td>\n",
       "      <td>1</td>\n",
       "      <td>0</td>\n",
       "      <td>0</td>\n",
       "      <td>3</td>\n",
       "      <td>25.0</td>\n",
       "      <td>5.333333</td>\n",
       "    </tr>\n",
       "    <tr>\n",
       "      <th>1</th>\n",
       "      <td>1</td>\n",
       "      <td>2</td>\n",
       "      <td>Booz scooters</td>\n",
       "      <td>Renting e-bike for mobility in private spaces</td>\n",
       "      <td>1</td>\n",
       "      <td>40.0</td>\n",
       "      <td>15.0</td>\n",
       "      <td>266.67</td>\n",
       "      <td>40.0</td>\n",
       "      <td>50.00</td>\n",
       "      <td>...</td>\n",
       "      <td>1</td>\n",
       "      <td>0</td>\n",
       "      <td>0</td>\n",
       "      <td>0</td>\n",
       "      <td>1</td>\n",
       "      <td>0</td>\n",
       "      <td>0</td>\n",
       "      <td>2</td>\n",
       "      <td>20.0</td>\n",
       "      <td>25.000000</td>\n",
       "    </tr>\n",
       "    <tr>\n",
       "      <th>2</th>\n",
       "      <td>1</td>\n",
       "      <td>3</td>\n",
       "      <td>Heart up my Sleeves</td>\n",
       "      <td>Detachable Sleeves</td>\n",
       "      <td>1</td>\n",
       "      <td>25.0</td>\n",
       "      <td>10.0</td>\n",
       "      <td>250.00</td>\n",
       "      <td>25.0</td>\n",
       "      <td>30.00</td>\n",
       "      <td>...</td>\n",
       "      <td>0</td>\n",
       "      <td>1</td>\n",
       "      <td>0</td>\n",
       "      <td>0</td>\n",
       "      <td>1</td>\n",
       "      <td>0</td>\n",
       "      <td>0</td>\n",
       "      <td>2</td>\n",
       "      <td>12.5</td>\n",
       "      <td>15.000000</td>\n",
       "    </tr>\n",
       "    <tr>\n",
       "      <th>3</th>\n",
       "      <td>2</td>\n",
       "      <td>4</td>\n",
       "      <td>Tagz Foods</td>\n",
       "      <td>Healthy Potato Chips</td>\n",
       "      <td>1</td>\n",
       "      <td>70.0</td>\n",
       "      <td>1.0</td>\n",
       "      <td>7000.00</td>\n",
       "      <td>70.0</td>\n",
       "      <td>2.75</td>\n",
       "      <td>...</td>\n",
       "      <td>1</td>\n",
       "      <td>0</td>\n",
       "      <td>0</td>\n",
       "      <td>0</td>\n",
       "      <td>0</td>\n",
       "      <td>0</td>\n",
       "      <td>0</td>\n",
       "      <td>1</td>\n",
       "      <td>70.0</td>\n",
       "      <td>2.750000</td>\n",
       "    </tr>\n",
       "    <tr>\n",
       "      <th>4</th>\n",
       "      <td>2</td>\n",
       "      <td>5</td>\n",
       "      <td>Head and Heart</td>\n",
       "      <td>Brain Development Course</td>\n",
       "      <td>0</td>\n",
       "      <td>50.0</td>\n",
       "      <td>5.0</td>\n",
       "      <td>1000.00</td>\n",
       "      <td>0.0</td>\n",
       "      <td>0.00</td>\n",
       "      <td>...</td>\n",
       "      <td>0</td>\n",
       "      <td>0</td>\n",
       "      <td>0</td>\n",
       "      <td>0</td>\n",
       "      <td>0</td>\n",
       "      <td>0</td>\n",
       "      <td>0</td>\n",
       "      <td>0</td>\n",
       "      <td>0.0</td>\n",
       "      <td>0.000000</td>\n",
       "    </tr>\n",
       "  </tbody>\n",
       "</table>\n",
       "<p>5 rows × 28 columns</p>\n",
       "</div>"
      ],
      "text/plain": [
       "   episode_number  pitch_number           brand_name  \\\n",
       "0               1             1  BluePine Industries   \n",
       "1               1             2        Booz scooters   \n",
       "2               1             3  Heart up my Sleeves   \n",
       "3               2             4           Tagz Foods   \n",
       "4               2             5       Head and Heart   \n",
       "\n",
       "                                            idea  deal  pitcher_ask_amount  \\\n",
       "0                                   Frozen Momos     1                50.0   \n",
       "1  Renting e-bike for mobility in private spaces     1                40.0   \n",
       "2                             Detachable Sleeves     1                25.0   \n",
       "3                           Healthy Potato Chips     1                70.0   \n",
       "4                       Brain Development Course     0                50.0   \n",
       "\n",
       "   ask_equity  ask_valuation  deal_amount  deal_equity  ...  ashneer_deal  \\\n",
       "0         5.0        1000.00         75.0        16.00  ...             1   \n",
       "1        15.0         266.67         40.0        50.00  ...             1   \n",
       "2        10.0         250.00         25.0        30.00  ...             0   \n",
       "3         1.0        7000.00         70.0         2.75  ...             1   \n",
       "4         5.0        1000.00          0.0         0.00  ...             0   \n",
       "\n",
       "   anupam_deal  aman_deal  namita_deal  vineeta_deal  peyush_deal  \\\n",
       "0            0          1            0             1            0   \n",
       "1            0          0            0             1            0   \n",
       "2            1          0            0             1            0   \n",
       "3            0          0            0             0            0   \n",
       "4            0          0            0             0            0   \n",
       "\n",
       "   ghazal_deal  total_sharks_invested  amount_per_shark  equity_per_shark  \n",
       "0            0                      3              25.0          5.333333  \n",
       "1            0                      2              20.0         25.000000  \n",
       "2            0                      2              12.5         15.000000  \n",
       "3            0                      1              70.0          2.750000  \n",
       "4            0                      0               0.0          0.000000  \n",
       "\n",
       "[5 rows x 28 columns]"
      ]
     },
     "execution_count": 6,
     "metadata": {},
     "output_type": "execute_result"
    }
   ],
   "source": [
    "df.head()"
   ]
  },
  {
   "cell_type": "markdown",
   "id": "fc1a0aac",
   "metadata": {},
   "source": [
    "# Bottom 5 Observations using tail functions"
   ]
  },
  {
   "cell_type": "code",
   "execution_count": 7,
   "id": "ac20bec3",
   "metadata": {},
   "outputs": [
    {
     "data": {
      "text/html": [
       "<div>\n",
       "<style scoped>\n",
       "    .dataframe tbody tr th:only-of-type {\n",
       "        vertical-align: middle;\n",
       "    }\n",
       "\n",
       "    .dataframe tbody tr th {\n",
       "        vertical-align: top;\n",
       "    }\n",
       "\n",
       "    .dataframe thead th {\n",
       "        text-align: right;\n",
       "    }\n",
       "</style>\n",
       "<table border=\"1\" class=\"dataframe\">\n",
       "  <thead>\n",
       "    <tr style=\"text-align: right;\">\n",
       "      <th></th>\n",
       "      <th>episode_number</th>\n",
       "      <th>pitch_number</th>\n",
       "      <th>brand_name</th>\n",
       "      <th>idea</th>\n",
       "      <th>deal</th>\n",
       "      <th>pitcher_ask_amount</th>\n",
       "      <th>ask_equity</th>\n",
       "      <th>ask_valuation</th>\n",
       "      <th>deal_amount</th>\n",
       "      <th>deal_equity</th>\n",
       "      <th>...</th>\n",
       "      <th>ashneer_deal</th>\n",
       "      <th>anupam_deal</th>\n",
       "      <th>aman_deal</th>\n",
       "      <th>namita_deal</th>\n",
       "      <th>vineeta_deal</th>\n",
       "      <th>peyush_deal</th>\n",
       "      <th>ghazal_deal</th>\n",
       "      <th>total_sharks_invested</th>\n",
       "      <th>amount_per_shark</th>\n",
       "      <th>equity_per_shark</th>\n",
       "    </tr>\n",
       "  </thead>\n",
       "  <tbody>\n",
       "    <tr>\n",
       "      <th>112</th>\n",
       "      <td>34</td>\n",
       "      <td>113</td>\n",
       "      <td>Green Protein</td>\n",
       "      <td>Plant-Based Protein</td>\n",
       "      <td>0</td>\n",
       "      <td>60.0</td>\n",
       "      <td>2.0</td>\n",
       "      <td>3000.0</td>\n",
       "      <td>0.0</td>\n",
       "      <td>0.0</td>\n",
       "      <td>...</td>\n",
       "      <td>0</td>\n",
       "      <td>0</td>\n",
       "      <td>0</td>\n",
       "      <td>0</td>\n",
       "      <td>0</td>\n",
       "      <td>0</td>\n",
       "      <td>0</td>\n",
       "      <td>0</td>\n",
       "      <td>0.0</td>\n",
       "      <td>0.0</td>\n",
       "    </tr>\n",
       "    <tr>\n",
       "      <th>113</th>\n",
       "      <td>34</td>\n",
       "      <td>114</td>\n",
       "      <td>On2Cook</td>\n",
       "      <td>Fastest Cooking Device</td>\n",
       "      <td>0</td>\n",
       "      <td>100.0</td>\n",
       "      <td>1.0</td>\n",
       "      <td>10000.0</td>\n",
       "      <td>0.0</td>\n",
       "      <td>0.0</td>\n",
       "      <td>...</td>\n",
       "      <td>0</td>\n",
       "      <td>0</td>\n",
       "      <td>0</td>\n",
       "      <td>0</td>\n",
       "      <td>0</td>\n",
       "      <td>0</td>\n",
       "      <td>0</td>\n",
       "      <td>0</td>\n",
       "      <td>0.0</td>\n",
       "      <td>0.0</td>\n",
       "    </tr>\n",
       "    <tr>\n",
       "      <th>114</th>\n",
       "      <td>35</td>\n",
       "      <td>115</td>\n",
       "      <td>Jain Shikanji</td>\n",
       "      <td>Lemonade</td>\n",
       "      <td>1</td>\n",
       "      <td>40.0</td>\n",
       "      <td>8.0</td>\n",
       "      <td>500.0</td>\n",
       "      <td>40.0</td>\n",
       "      <td>30.0</td>\n",
       "      <td>...</td>\n",
       "      <td>1</td>\n",
       "      <td>1</td>\n",
       "      <td>1</td>\n",
       "      <td>0</td>\n",
       "      <td>1</td>\n",
       "      <td>0</td>\n",
       "      <td>0</td>\n",
       "      <td>4</td>\n",
       "      <td>10.0</td>\n",
       "      <td>7.5</td>\n",
       "    </tr>\n",
       "    <tr>\n",
       "      <th>115</th>\n",
       "      <td>35</td>\n",
       "      <td>116</td>\n",
       "      <td>Woloo</td>\n",
       "      <td>Washroom Finder</td>\n",
       "      <td>0</td>\n",
       "      <td>50.0</td>\n",
       "      <td>4.0</td>\n",
       "      <td>1250.0</td>\n",
       "      <td>0.0</td>\n",
       "      <td>0.0</td>\n",
       "      <td>...</td>\n",
       "      <td>0</td>\n",
       "      <td>0</td>\n",
       "      <td>0</td>\n",
       "      <td>0</td>\n",
       "      <td>0</td>\n",
       "      <td>0</td>\n",
       "      <td>0</td>\n",
       "      <td>0</td>\n",
       "      <td>0.0</td>\n",
       "      <td>0.0</td>\n",
       "    </tr>\n",
       "    <tr>\n",
       "      <th>116</th>\n",
       "      <td>35</td>\n",
       "      <td>117</td>\n",
       "      <td>Elcare India</td>\n",
       "      <td>Carenting for Elders</td>\n",
       "      <td>0</td>\n",
       "      <td>100.0</td>\n",
       "      <td>2.5</td>\n",
       "      <td>4000.0</td>\n",
       "      <td>0.0</td>\n",
       "      <td>0.0</td>\n",
       "      <td>...</td>\n",
       "      <td>0</td>\n",
       "      <td>0</td>\n",
       "      <td>0</td>\n",
       "      <td>0</td>\n",
       "      <td>0</td>\n",
       "      <td>0</td>\n",
       "      <td>0</td>\n",
       "      <td>0</td>\n",
       "      <td>0.0</td>\n",
       "      <td>0.0</td>\n",
       "    </tr>\n",
       "  </tbody>\n",
       "</table>\n",
       "<p>5 rows × 28 columns</p>\n",
       "</div>"
      ],
      "text/plain": [
       "     episode_number  pitch_number     brand_name                    idea  \\\n",
       "112              34           113  Green Protein     Plant-Based Protein   \n",
       "113              34           114        On2Cook  Fastest Cooking Device   \n",
       "114              35           115  Jain Shikanji                Lemonade   \n",
       "115              35           116          Woloo         Washroom Finder   \n",
       "116              35           117   Elcare India    Carenting for Elders   \n",
       "\n",
       "     deal  pitcher_ask_amount  ask_equity  ask_valuation  deal_amount  \\\n",
       "112     0                60.0         2.0         3000.0          0.0   \n",
       "113     0               100.0         1.0        10000.0          0.0   \n",
       "114     1                40.0         8.0          500.0         40.0   \n",
       "115     0                50.0         4.0         1250.0          0.0   \n",
       "116     0               100.0         2.5         4000.0          0.0   \n",
       "\n",
       "     deal_equity  ...  ashneer_deal  anupam_deal  aman_deal  namita_deal  \\\n",
       "112          0.0  ...             0            0          0            0   \n",
       "113          0.0  ...             0            0          0            0   \n",
       "114         30.0  ...             1            1          1            0   \n",
       "115          0.0  ...             0            0          0            0   \n",
       "116          0.0  ...             0            0          0            0   \n",
       "\n",
       "     vineeta_deal  peyush_deal  ghazal_deal  total_sharks_invested  \\\n",
       "112             0            0            0                      0   \n",
       "113             0            0            0                      0   \n",
       "114             1            0            0                      4   \n",
       "115             0            0            0                      0   \n",
       "116             0            0            0                      0   \n",
       "\n",
       "     amount_per_shark  equity_per_shark  \n",
       "112               0.0               0.0  \n",
       "113               0.0               0.0  \n",
       "114              10.0               7.5  \n",
       "115               0.0               0.0  \n",
       "116               0.0               0.0  \n",
       "\n",
       "[5 rows x 28 columns]"
      ]
     },
     "execution_count": 7,
     "metadata": {},
     "output_type": "execute_result"
    }
   ],
   "source": [
    "df.tail()"
   ]
  },
  {
   "cell_type": "markdown",
   "id": "d8bd4a80",
   "metadata": {},
   "source": [
    "# Information of data using info functions"
   ]
  },
  {
   "cell_type": "code",
   "execution_count": 8,
   "id": "4ba8aa57",
   "metadata": {},
   "outputs": [
    {
     "name": "stdout",
     "output_type": "stream",
     "text": [
      "<class 'pandas.core.frame.DataFrame'>\n",
      "RangeIndex: 117 entries, 0 to 116\n",
      "Data columns (total 28 columns):\n",
      " #   Column                 Non-Null Count  Dtype  \n",
      "---  ------                 --------------  -----  \n",
      " 0   episode_number         117 non-null    int64  \n",
      " 1   pitch_number           117 non-null    int64  \n",
      " 2   brand_name             117 non-null    object \n",
      " 3   idea                   117 non-null    object \n",
      " 4   deal                   117 non-null    int64  \n",
      " 5   pitcher_ask_amount     117 non-null    float64\n",
      " 6   ask_equity             117 non-null    float64\n",
      " 7   ask_valuation          117 non-null    float64\n",
      " 8   deal_amount            117 non-null    float64\n",
      " 9   deal_equity            117 non-null    float64\n",
      " 10  deal_valuation         117 non-null    float64\n",
      " 11  ashneer_present        117 non-null    int64  \n",
      " 12  anupam_present         117 non-null    int64  \n",
      " 13  aman_present           117 non-null    int64  \n",
      " 14  namita_present         117 non-null    int64  \n",
      " 15  vineeta_present        117 non-null    int64  \n",
      " 16  peyush_present         117 non-null    int64  \n",
      " 17  ghazal_present         117 non-null    int64  \n",
      " 18  ashneer_deal           117 non-null    int64  \n",
      " 19  anupam_deal            117 non-null    int64  \n",
      " 20  aman_deal              117 non-null    int64  \n",
      " 21  namita_deal            117 non-null    int64  \n",
      " 22  vineeta_deal           117 non-null    int64  \n",
      " 23  peyush_deal            117 non-null    int64  \n",
      " 24  ghazal_deal            117 non-null    int64  \n",
      " 25  total_sharks_invested  117 non-null    int64  \n",
      " 26  amount_per_shark       117 non-null    float64\n",
      " 27  equity_per_shark       117 non-null    float64\n",
      "dtypes: float64(8), int64(18), object(2)\n",
      "memory usage: 25.7+ KB\n"
     ]
    }
   ],
   "source": [
    "df.info()"
   ]
  },
  {
   "cell_type": "markdown",
   "id": "f655409e",
   "metadata": {},
   "source": [
    "# Name of Columns using Columns function"
   ]
  },
  {
   "cell_type": "code",
   "execution_count": 9,
   "id": "a90cfc0e",
   "metadata": {},
   "outputs": [
    {
     "data": {
      "text/plain": [
       "Index(['episode_number', 'pitch_number', 'brand_name', 'idea', 'deal',\n",
       "       'pitcher_ask_amount', 'ask_equity', 'ask_valuation', 'deal_amount',\n",
       "       'deal_equity', 'deal_valuation', 'ashneer_present', 'anupam_present',\n",
       "       'aman_present', 'namita_present', 'vineeta_present', 'peyush_present',\n",
       "       'ghazal_present', 'ashneer_deal', 'anupam_deal', 'aman_deal',\n",
       "       'namita_deal', 'vineeta_deal', 'peyush_deal', 'ghazal_deal',\n",
       "       'total_sharks_invested', 'amount_per_shark', 'equity_per_shark'],\n",
       "      dtype='object')"
      ]
     },
     "execution_count": 9,
     "metadata": {},
     "output_type": "execute_result"
    }
   ],
   "source": [
    "df.columns"
   ]
  },
  {
   "cell_type": "raw",
   "id": "81802d26",
   "metadata": {},
   "source": [
    "Name of Column are using colums Function\n",
    "\n",
    "Episode Number\n",
    "Pitch Number\n",
    "Brand Name\n",
    "Idea\n",
    "Deal\n",
    "Pitcher Ask Amount\n",
    "Ask Equity\n",
    "Ask VAluation\n",
    "Deal Amount\n",
    "Deal Equity\n",
    "Ashneer Deal\n",
    "Anupam Deal\n",
    "Aman Deal\n",
    "Nameeta Deal\n",
    "Vineeta Dael\n",
    "Peyush Deal\n",
    "Ghazal Deal\n",
    "Total Shark Invested\n",
    "Amount Per Shark  Invested\n",
    "Equity Per Shark"
   ]
  },
  {
   "cell_type": "markdown",
   "id": "47269718",
   "metadata": {},
   "source": [
    "# To find out Null Values in the given Dataset"
   ]
  },
  {
   "cell_type": "code",
   "execution_count": 10,
   "id": "2751b82d",
   "metadata": {},
   "outputs": [
    {
     "data": {
      "text/html": [
       "<div>\n",
       "<style scoped>\n",
       "    .dataframe tbody tr th:only-of-type {\n",
       "        vertical-align: middle;\n",
       "    }\n",
       "\n",
       "    .dataframe tbody tr th {\n",
       "        vertical-align: top;\n",
       "    }\n",
       "\n",
       "    .dataframe thead th {\n",
       "        text-align: right;\n",
       "    }\n",
       "</style>\n",
       "<table border=\"1\" class=\"dataframe\">\n",
       "  <thead>\n",
       "    <tr style=\"text-align: right;\">\n",
       "      <th></th>\n",
       "      <th>episode_number</th>\n",
       "      <th>pitch_number</th>\n",
       "      <th>brand_name</th>\n",
       "      <th>idea</th>\n",
       "      <th>deal</th>\n",
       "      <th>pitcher_ask_amount</th>\n",
       "      <th>ask_equity</th>\n",
       "      <th>ask_valuation</th>\n",
       "      <th>deal_amount</th>\n",
       "      <th>deal_equity</th>\n",
       "      <th>...</th>\n",
       "      <th>ashneer_deal</th>\n",
       "      <th>anupam_deal</th>\n",
       "      <th>aman_deal</th>\n",
       "      <th>namita_deal</th>\n",
       "      <th>vineeta_deal</th>\n",
       "      <th>peyush_deal</th>\n",
       "      <th>ghazal_deal</th>\n",
       "      <th>total_sharks_invested</th>\n",
       "      <th>amount_per_shark</th>\n",
       "      <th>equity_per_shark</th>\n",
       "    </tr>\n",
       "  </thead>\n",
       "  <tbody>\n",
       "    <tr>\n",
       "      <th>0</th>\n",
       "      <td>False</td>\n",
       "      <td>False</td>\n",
       "      <td>False</td>\n",
       "      <td>False</td>\n",
       "      <td>False</td>\n",
       "      <td>False</td>\n",
       "      <td>False</td>\n",
       "      <td>False</td>\n",
       "      <td>False</td>\n",
       "      <td>False</td>\n",
       "      <td>...</td>\n",
       "      <td>False</td>\n",
       "      <td>False</td>\n",
       "      <td>False</td>\n",
       "      <td>False</td>\n",
       "      <td>False</td>\n",
       "      <td>False</td>\n",
       "      <td>False</td>\n",
       "      <td>False</td>\n",
       "      <td>False</td>\n",
       "      <td>False</td>\n",
       "    </tr>\n",
       "    <tr>\n",
       "      <th>1</th>\n",
       "      <td>False</td>\n",
       "      <td>False</td>\n",
       "      <td>False</td>\n",
       "      <td>False</td>\n",
       "      <td>False</td>\n",
       "      <td>False</td>\n",
       "      <td>False</td>\n",
       "      <td>False</td>\n",
       "      <td>False</td>\n",
       "      <td>False</td>\n",
       "      <td>...</td>\n",
       "      <td>False</td>\n",
       "      <td>False</td>\n",
       "      <td>False</td>\n",
       "      <td>False</td>\n",
       "      <td>False</td>\n",
       "      <td>False</td>\n",
       "      <td>False</td>\n",
       "      <td>False</td>\n",
       "      <td>False</td>\n",
       "      <td>False</td>\n",
       "    </tr>\n",
       "    <tr>\n",
       "      <th>2</th>\n",
       "      <td>False</td>\n",
       "      <td>False</td>\n",
       "      <td>False</td>\n",
       "      <td>False</td>\n",
       "      <td>False</td>\n",
       "      <td>False</td>\n",
       "      <td>False</td>\n",
       "      <td>False</td>\n",
       "      <td>False</td>\n",
       "      <td>False</td>\n",
       "      <td>...</td>\n",
       "      <td>False</td>\n",
       "      <td>False</td>\n",
       "      <td>False</td>\n",
       "      <td>False</td>\n",
       "      <td>False</td>\n",
       "      <td>False</td>\n",
       "      <td>False</td>\n",
       "      <td>False</td>\n",
       "      <td>False</td>\n",
       "      <td>False</td>\n",
       "    </tr>\n",
       "    <tr>\n",
       "      <th>3</th>\n",
       "      <td>False</td>\n",
       "      <td>False</td>\n",
       "      <td>False</td>\n",
       "      <td>False</td>\n",
       "      <td>False</td>\n",
       "      <td>False</td>\n",
       "      <td>False</td>\n",
       "      <td>False</td>\n",
       "      <td>False</td>\n",
       "      <td>False</td>\n",
       "      <td>...</td>\n",
       "      <td>False</td>\n",
       "      <td>False</td>\n",
       "      <td>False</td>\n",
       "      <td>False</td>\n",
       "      <td>False</td>\n",
       "      <td>False</td>\n",
       "      <td>False</td>\n",
       "      <td>False</td>\n",
       "      <td>False</td>\n",
       "      <td>False</td>\n",
       "    </tr>\n",
       "    <tr>\n",
       "      <th>4</th>\n",
       "      <td>False</td>\n",
       "      <td>False</td>\n",
       "      <td>False</td>\n",
       "      <td>False</td>\n",
       "      <td>False</td>\n",
       "      <td>False</td>\n",
       "      <td>False</td>\n",
       "      <td>False</td>\n",
       "      <td>False</td>\n",
       "      <td>False</td>\n",
       "      <td>...</td>\n",
       "      <td>False</td>\n",
       "      <td>False</td>\n",
       "      <td>False</td>\n",
       "      <td>False</td>\n",
       "      <td>False</td>\n",
       "      <td>False</td>\n",
       "      <td>False</td>\n",
       "      <td>False</td>\n",
       "      <td>False</td>\n",
       "      <td>False</td>\n",
       "    </tr>\n",
       "    <tr>\n",
       "      <th>...</th>\n",
       "      <td>...</td>\n",
       "      <td>...</td>\n",
       "      <td>...</td>\n",
       "      <td>...</td>\n",
       "      <td>...</td>\n",
       "      <td>...</td>\n",
       "      <td>...</td>\n",
       "      <td>...</td>\n",
       "      <td>...</td>\n",
       "      <td>...</td>\n",
       "      <td>...</td>\n",
       "      <td>...</td>\n",
       "      <td>...</td>\n",
       "      <td>...</td>\n",
       "      <td>...</td>\n",
       "      <td>...</td>\n",
       "      <td>...</td>\n",
       "      <td>...</td>\n",
       "      <td>...</td>\n",
       "      <td>...</td>\n",
       "      <td>...</td>\n",
       "    </tr>\n",
       "    <tr>\n",
       "      <th>112</th>\n",
       "      <td>False</td>\n",
       "      <td>False</td>\n",
       "      <td>False</td>\n",
       "      <td>False</td>\n",
       "      <td>False</td>\n",
       "      <td>False</td>\n",
       "      <td>False</td>\n",
       "      <td>False</td>\n",
       "      <td>False</td>\n",
       "      <td>False</td>\n",
       "      <td>...</td>\n",
       "      <td>False</td>\n",
       "      <td>False</td>\n",
       "      <td>False</td>\n",
       "      <td>False</td>\n",
       "      <td>False</td>\n",
       "      <td>False</td>\n",
       "      <td>False</td>\n",
       "      <td>False</td>\n",
       "      <td>False</td>\n",
       "      <td>False</td>\n",
       "    </tr>\n",
       "    <tr>\n",
       "      <th>113</th>\n",
       "      <td>False</td>\n",
       "      <td>False</td>\n",
       "      <td>False</td>\n",
       "      <td>False</td>\n",
       "      <td>False</td>\n",
       "      <td>False</td>\n",
       "      <td>False</td>\n",
       "      <td>False</td>\n",
       "      <td>False</td>\n",
       "      <td>False</td>\n",
       "      <td>...</td>\n",
       "      <td>False</td>\n",
       "      <td>False</td>\n",
       "      <td>False</td>\n",
       "      <td>False</td>\n",
       "      <td>False</td>\n",
       "      <td>False</td>\n",
       "      <td>False</td>\n",
       "      <td>False</td>\n",
       "      <td>False</td>\n",
       "      <td>False</td>\n",
       "    </tr>\n",
       "    <tr>\n",
       "      <th>114</th>\n",
       "      <td>False</td>\n",
       "      <td>False</td>\n",
       "      <td>False</td>\n",
       "      <td>False</td>\n",
       "      <td>False</td>\n",
       "      <td>False</td>\n",
       "      <td>False</td>\n",
       "      <td>False</td>\n",
       "      <td>False</td>\n",
       "      <td>False</td>\n",
       "      <td>...</td>\n",
       "      <td>False</td>\n",
       "      <td>False</td>\n",
       "      <td>False</td>\n",
       "      <td>False</td>\n",
       "      <td>False</td>\n",
       "      <td>False</td>\n",
       "      <td>False</td>\n",
       "      <td>False</td>\n",
       "      <td>False</td>\n",
       "      <td>False</td>\n",
       "    </tr>\n",
       "    <tr>\n",
       "      <th>115</th>\n",
       "      <td>False</td>\n",
       "      <td>False</td>\n",
       "      <td>False</td>\n",
       "      <td>False</td>\n",
       "      <td>False</td>\n",
       "      <td>False</td>\n",
       "      <td>False</td>\n",
       "      <td>False</td>\n",
       "      <td>False</td>\n",
       "      <td>False</td>\n",
       "      <td>...</td>\n",
       "      <td>False</td>\n",
       "      <td>False</td>\n",
       "      <td>False</td>\n",
       "      <td>False</td>\n",
       "      <td>False</td>\n",
       "      <td>False</td>\n",
       "      <td>False</td>\n",
       "      <td>False</td>\n",
       "      <td>False</td>\n",
       "      <td>False</td>\n",
       "    </tr>\n",
       "    <tr>\n",
       "      <th>116</th>\n",
       "      <td>False</td>\n",
       "      <td>False</td>\n",
       "      <td>False</td>\n",
       "      <td>False</td>\n",
       "      <td>False</td>\n",
       "      <td>False</td>\n",
       "      <td>False</td>\n",
       "      <td>False</td>\n",
       "      <td>False</td>\n",
       "      <td>False</td>\n",
       "      <td>...</td>\n",
       "      <td>False</td>\n",
       "      <td>False</td>\n",
       "      <td>False</td>\n",
       "      <td>False</td>\n",
       "      <td>False</td>\n",
       "      <td>False</td>\n",
       "      <td>False</td>\n",
       "      <td>False</td>\n",
       "      <td>False</td>\n",
       "      <td>False</td>\n",
       "    </tr>\n",
       "  </tbody>\n",
       "</table>\n",
       "<p>117 rows × 28 columns</p>\n",
       "</div>"
      ],
      "text/plain": [
       "     episode_number  pitch_number  brand_name   idea   deal  \\\n",
       "0             False         False       False  False  False   \n",
       "1             False         False       False  False  False   \n",
       "2             False         False       False  False  False   \n",
       "3             False         False       False  False  False   \n",
       "4             False         False       False  False  False   \n",
       "..              ...           ...         ...    ...    ...   \n",
       "112           False         False       False  False  False   \n",
       "113           False         False       False  False  False   \n",
       "114           False         False       False  False  False   \n",
       "115           False         False       False  False  False   \n",
       "116           False         False       False  False  False   \n",
       "\n",
       "     pitcher_ask_amount  ask_equity  ask_valuation  deal_amount  deal_equity  \\\n",
       "0                 False       False          False        False        False   \n",
       "1                 False       False          False        False        False   \n",
       "2                 False       False          False        False        False   \n",
       "3                 False       False          False        False        False   \n",
       "4                 False       False          False        False        False   \n",
       "..                  ...         ...            ...          ...          ...   \n",
       "112               False       False          False        False        False   \n",
       "113               False       False          False        False        False   \n",
       "114               False       False          False        False        False   \n",
       "115               False       False          False        False        False   \n",
       "116               False       False          False        False        False   \n",
       "\n",
       "     ...  ashneer_deal  anupam_deal  aman_deal  namita_deal  vineeta_deal  \\\n",
       "0    ...         False        False      False        False         False   \n",
       "1    ...         False        False      False        False         False   \n",
       "2    ...         False        False      False        False         False   \n",
       "3    ...         False        False      False        False         False   \n",
       "4    ...         False        False      False        False         False   \n",
       "..   ...           ...          ...        ...          ...           ...   \n",
       "112  ...         False        False      False        False         False   \n",
       "113  ...         False        False      False        False         False   \n",
       "114  ...         False        False      False        False         False   \n",
       "115  ...         False        False      False        False         False   \n",
       "116  ...         False        False      False        False         False   \n",
       "\n",
       "     peyush_deal  ghazal_deal  total_sharks_invested  amount_per_shark  \\\n",
       "0          False        False                  False             False   \n",
       "1          False        False                  False             False   \n",
       "2          False        False                  False             False   \n",
       "3          False        False                  False             False   \n",
       "4          False        False                  False             False   \n",
       "..           ...          ...                    ...               ...   \n",
       "112        False        False                  False             False   \n",
       "113        False        False                  False             False   \n",
       "114        False        False                  False             False   \n",
       "115        False        False                  False             False   \n",
       "116        False        False                  False             False   \n",
       "\n",
       "     equity_per_shark  \n",
       "0               False  \n",
       "1               False  \n",
       "2               False  \n",
       "3               False  \n",
       "4               False  \n",
       "..                ...  \n",
       "112             False  \n",
       "113             False  \n",
       "114             False  \n",
       "115             False  \n",
       "116             False  \n",
       "\n",
       "[117 rows x 28 columns]"
      ]
     },
     "execution_count": 10,
     "metadata": {},
     "output_type": "execute_result"
    }
   ],
   "source": [
    "df.isnull()"
   ]
  },
  {
   "cell_type": "code",
   "execution_count": 11,
   "id": "4758d931",
   "metadata": {},
   "outputs": [
    {
     "data": {
      "text/plain": [
       "episode_number           0\n",
       "pitch_number             0\n",
       "brand_name               0\n",
       "idea                     0\n",
       "deal                     0\n",
       "pitcher_ask_amount       0\n",
       "ask_equity               0\n",
       "ask_valuation            0\n",
       "deal_amount              0\n",
       "deal_equity              0\n",
       "deal_valuation           0\n",
       "ashneer_present          0\n",
       "anupam_present           0\n",
       "aman_present             0\n",
       "namita_present           0\n",
       "vineeta_present          0\n",
       "peyush_present           0\n",
       "ghazal_present           0\n",
       "ashneer_deal             0\n",
       "anupam_deal              0\n",
       "aman_deal                0\n",
       "namita_deal              0\n",
       "vineeta_deal             0\n",
       "peyush_deal              0\n",
       "ghazal_deal              0\n",
       "total_sharks_invested    0\n",
       "amount_per_shark         0\n",
       "equity_per_shark         0\n",
       "dtype: int64"
      ]
     },
     "execution_count": 11,
     "metadata": {},
     "output_type": "execute_result"
    }
   ],
   "source": [
    "df.isnull().sum()"
   ]
  },
  {
   "cell_type": "code",
   "execution_count": 12,
   "id": "bc3e7190",
   "metadata": {},
   "outputs": [
    {
     "data": {
      "text/plain": [
       "<AxesSubplot:>"
      ]
     },
     "execution_count": 12,
     "metadata": {},
     "output_type": "execute_result"
    },
    {
     "data": {
      "image/png": "[encoded data removed]",
      "text/plain": [
       "<Figure size 432x288 with 1 Axes>"
      ]
     },
     "metadata": {
      "needs_background": "light"
     },
     "output_type": "display_data"
    }
   ],
   "source": [
    "sns.heatmap(df.isna(), cbar=False)"
   ]
  },
  {
   "cell_type": "markdown",
   "id": "8c4f0622",
   "metadata": {},
   "source": [
    "In the given dataset, No null values are present."
   ]
  },
  {
   "cell_type": "markdown",
   "id": "84ccb9b1",
   "metadata": {},
   "source": [
    "# Some Statistics Using Describe Function"
   ]
  },
  {
   "cell_type": "code",
   "execution_count": 13,
   "id": "878fd2a4",
   "metadata": {},
   "outputs": [
    {
     "data": {
      "text/html": [
       "<div>\n",
       "<style scoped>\n",
       "    .dataframe tbody tr th:only-of-type {\n",
       "        vertical-align: middle;\n",
       "    }\n",
       "\n",
       "    .dataframe tbody tr th {\n",
       "        vertical-align: top;\n",
       "    }\n",
       "\n",
       "    .dataframe thead th {\n",
       "        text-align: right;\n",
       "    }\n",
       "</style>\n",
       "<table border=\"1\" class=\"dataframe\">\n",
       "  <thead>\n",
       "    <tr style=\"text-align: right;\">\n",
       "      <th></th>\n",
       "      <th>episode_number</th>\n",
       "      <th>pitch_number</th>\n",
       "      <th>deal</th>\n",
       "      <th>pitcher_ask_amount</th>\n",
       "      <th>ask_equity</th>\n",
       "      <th>ask_valuation</th>\n",
       "      <th>deal_amount</th>\n",
       "      <th>deal_equity</th>\n",
       "      <th>deal_valuation</th>\n",
       "      <th>ashneer_present</th>\n",
       "      <th>...</th>\n",
       "      <th>ashneer_deal</th>\n",
       "      <th>anupam_deal</th>\n",
       "      <th>aman_deal</th>\n",
       "      <th>namita_deal</th>\n",
       "      <th>vineeta_deal</th>\n",
       "      <th>peyush_deal</th>\n",
       "      <th>ghazal_deal</th>\n",
       "      <th>total_sharks_invested</th>\n",
       "      <th>amount_per_shark</th>\n",
       "      <th>equity_per_shark</th>\n",
       "    </tr>\n",
       "  </thead>\n",
       "  <tbody>\n",
       "    <tr>\n",
       "      <th>count</th>\n",
       "      <td>117.000000</td>\n",
       "      <td>117.000000</td>\n",
       "      <td>117.000000</td>\n",
       "      <td>117.000000</td>\n",
       "      <td>117.000000</td>\n",
       "      <td>117.000000</td>\n",
       "      <td>117.000000</td>\n",
       "      <td>117.000000</td>\n",
       "      <td>117.000000</td>\n",
       "      <td>117.000000</td>\n",
       "      <td>...</td>\n",
       "      <td>117.000000</td>\n",
       "      <td>117.000000</td>\n",
       "      <td>117.000000</td>\n",
       "      <td>117.000000</td>\n",
       "      <td>117.000000</td>\n",
       "      <td>117.000000</td>\n",
       "      <td>117.000000</td>\n",
       "      <td>117.000000</td>\n",
       "      <td>117.000000</td>\n",
       "      <td>117.000000</td>\n",
       "    </tr>\n",
       "    <tr>\n",
       "      <th>mean</th>\n",
       "      <td>18.735043</td>\n",
       "      <td>59.000000</td>\n",
       "      <td>0.555556</td>\n",
       "      <td>319.854709</td>\n",
       "      <td>5.188034</td>\n",
       "      <td>3852.462479</td>\n",
       "      <td>31.982915</td>\n",
       "      <td>8.963504</td>\n",
       "      <td>467.104872</td>\n",
       "      <td>0.837607</td>\n",
       "      <td>...</td>\n",
       "      <td>0.179487</td>\n",
       "      <td>0.205128</td>\n",
       "      <td>0.239316</td>\n",
       "      <td>0.188034</td>\n",
       "      <td>0.128205</td>\n",
       "      <td>0.230769</td>\n",
       "      <td>0.059829</td>\n",
       "      <td>1.230769</td>\n",
       "      <td>18.132481</td>\n",
       "      <td>5.583590</td>\n",
       "    </tr>\n",
       "    <tr>\n",
       "      <th>std</th>\n",
       "      <td>10.070778</td>\n",
       "      <td>33.919021</td>\n",
       "      <td>0.499041</td>\n",
       "      <td>2767.842777</td>\n",
       "      <td>3.892121</td>\n",
       "      <td>11931.601957</td>\n",
       "      <td>36.687391</td>\n",
       "      <td>13.106769</td>\n",
       "      <td>919.988864</td>\n",
       "      <td>0.370397</td>\n",
       "      <td>...</td>\n",
       "      <td>0.385410</td>\n",
       "      <td>0.405532</td>\n",
       "      <td>0.428501</td>\n",
       "      <td>0.392420</td>\n",
       "      <td>0.335756</td>\n",
       "      <td>0.423137</td>\n",
       "      <td>0.238190</td>\n",
       "      <td>1.410457</td>\n",
       "      <td>23.588682</td>\n",
       "      <td>10.803799</td>\n",
       "    </tr>\n",
       "    <tr>\n",
       "      <th>min</th>\n",
       "      <td>1.000000</td>\n",
       "      <td>1.000000</td>\n",
       "      <td>0.000000</td>\n",
       "      <td>0.001010</td>\n",
       "      <td>0.250000</td>\n",
       "      <td>0.010000</td>\n",
       "      <td>0.000000</td>\n",
       "      <td>0.000000</td>\n",
       "      <td>0.000000</td>\n",
       "      <td>0.000000</td>\n",
       "      <td>...</td>\n",
       "      <td>0.000000</td>\n",
       "      <td>0.000000</td>\n",
       "      <td>0.000000</td>\n",
       "      <td>0.000000</td>\n",
       "      <td>0.000000</td>\n",
       "      <td>0.000000</td>\n",
       "      <td>0.000000</td>\n",
       "      <td>0.000000</td>\n",
       "      <td>0.000000</td>\n",
       "      <td>0.000000</td>\n",
       "    </tr>\n",
       "    <tr>\n",
       "      <th>25%</th>\n",
       "      <td>10.000000</td>\n",
       "      <td>30.000000</td>\n",
       "      <td>0.000000</td>\n",
       "      <td>45.000000</td>\n",
       "      <td>2.500000</td>\n",
       "      <td>666.670000</td>\n",
       "      <td>0.000000</td>\n",
       "      <td>0.000000</td>\n",
       "      <td>0.000000</td>\n",
       "      <td>1.000000</td>\n",
       "      <td>...</td>\n",
       "      <td>0.000000</td>\n",
       "      <td>0.000000</td>\n",
       "      <td>0.000000</td>\n",
       "      <td>0.000000</td>\n",
       "      <td>0.000000</td>\n",
       "      <td>0.000000</td>\n",
       "      <td>0.000000</td>\n",
       "      <td>0.000000</td>\n",
       "      <td>0.000000</td>\n",
       "      <td>0.000000</td>\n",
       "    </tr>\n",
       "    <tr>\n",
       "      <th>50%</th>\n",
       "      <td>19.000000</td>\n",
       "      <td>59.000000</td>\n",
       "      <td>1.000000</td>\n",
       "      <td>50.000000</td>\n",
       "      <td>5.000000</td>\n",
       "      <td>1250.000000</td>\n",
       "      <td>25.000000</td>\n",
       "      <td>3.000000</td>\n",
       "      <td>100.000000</td>\n",
       "      <td>1.000000</td>\n",
       "      <td>...</td>\n",
       "      <td>0.000000</td>\n",
       "      <td>0.000000</td>\n",
       "      <td>0.000000</td>\n",
       "      <td>0.000000</td>\n",
       "      <td>0.000000</td>\n",
       "      <td>0.000000</td>\n",
       "      <td>0.000000</td>\n",
       "      <td>1.000000</td>\n",
       "      <td>10.000000</td>\n",
       "      <td>1.250000</td>\n",
       "    </tr>\n",
       "    <tr>\n",
       "      <th>75%</th>\n",
       "      <td>27.000000</td>\n",
       "      <td>88.000000</td>\n",
       "      <td>1.000000</td>\n",
       "      <td>80.000000</td>\n",
       "      <td>7.500000</td>\n",
       "      <td>2857.140000</td>\n",
       "      <td>50.000000</td>\n",
       "      <td>15.000000</td>\n",
       "      <td>500.000000</td>\n",
       "      <td>1.000000</td>\n",
       "      <td>...</td>\n",
       "      <td>0.000000</td>\n",
       "      <td>0.000000</td>\n",
       "      <td>0.000000</td>\n",
       "      <td>0.000000</td>\n",
       "      <td>0.000000</td>\n",
       "      <td>0.000000</td>\n",
       "      <td>0.000000</td>\n",
       "      <td>2.000000</td>\n",
       "      <td>25.000000</td>\n",
       "      <td>6.000000</td>\n",
       "    </tr>\n",
       "    <tr>\n",
       "      <th>max</th>\n",
       "      <td>35.000000</td>\n",
       "      <td>117.000000</td>\n",
       "      <td>1.000000</td>\n",
       "      <td>30000.000000</td>\n",
       "      <td>25.000000</td>\n",
       "      <td>120000.000000</td>\n",
       "      <td>150.000000</td>\n",
       "      <td>75.000000</td>\n",
       "      <td>6666.670000</td>\n",
       "      <td>1.000000</td>\n",
       "      <td>...</td>\n",
       "      <td>1.000000</td>\n",
       "      <td>1.000000</td>\n",
       "      <td>1.000000</td>\n",
       "      <td>1.000000</td>\n",
       "      <td>1.000000</td>\n",
       "      <td>1.000000</td>\n",
       "      <td>1.000000</td>\n",
       "      <td>5.000000</td>\n",
       "      <td>100.000000</td>\n",
       "      <td>75.000000</td>\n",
       "    </tr>\n",
       "  </tbody>\n",
       "</table>\n",
       "<p>8 rows × 26 columns</p>\n",
       "</div>"
      ],
      "text/plain": [
       "       episode_number  pitch_number        deal  pitcher_ask_amount  \\\n",
       "count      117.000000    117.000000  117.000000          117.000000   \n",
       "mean        18.735043     59.000000    0.555556          319.854709   \n",
       "std         10.070778     33.919021    0.499041         2767.842777   \n",
       "min          1.000000      1.000000    0.000000            0.001010   \n",
       "25%         10.000000     30.000000    0.000000           45.000000   \n",
       "50%         19.000000     59.000000    1.000000           50.000000   \n",
       "75%         27.000000     88.000000    1.000000           80.000000   \n",
       "max         35.000000    117.000000    1.000000        30000.000000   \n",
       "\n",
       "       ask_equity  ask_valuation  deal_amount  deal_equity  deal_valuation  \\\n",
       "count  117.000000     117.000000   117.000000   117.000000      117.000000   \n",
       "mean     5.188034    3852.462479    31.982915     8.963504      467.104872   \n",
       "std      3.892121   11931.601957    36.687391    13.106769      919.988864   \n",
       "min      0.250000       0.010000     0.000000     0.000000        0.000000   \n",
       "25%      2.500000     666.670000     0.000000     0.000000        0.000000   \n",
       "50%      5.000000    1250.000000    25.000000     3.000000      100.000000   \n",
       "75%      7.500000    2857.140000    50.000000    15.000000      500.000000   \n",
       "max     25.000000  120000.000000   150.000000    75.000000     6666.670000   \n",
       "\n",
       "       ashneer_present  ...  ashneer_deal  anupam_deal   aman_deal  \\\n",
       "count       117.000000  ...    117.000000   117.000000  117.000000   \n",
       "mean          0.837607  ...      0.179487     0.205128    0.239316   \n",
       "std           0.370397  ...      0.385410     0.405532    0.428501   \n",
       "min           0.000000  ...      0.000000     0.000000    0.000000   \n",
       "25%           1.000000  ...      0.000000     0.000000    0.000000   \n",
       "50%           1.000000  ...      0.000000     0.000000    0.000000   \n",
       "75%           1.000000  ...      0.000000     0.000000    0.000000   \n",
       "max           1.000000  ...      1.000000     1.000000    1.000000   \n",
       "\n",
       "       namita_deal  vineeta_deal  peyush_deal  ghazal_deal  \\\n",
       "count   117.000000    117.000000   117.000000   117.000000   \n",
       "mean      0.188034      0.128205     0.230769     0.059829   \n",
       "std       0.392420      0.335756     0.423137     0.238190   \n",
       "min       0.000000      0.000000     0.000000     0.000000   \n",
       "25%       0.000000      0.000000     0.000000     0.000000   \n",
       "50%       0.000000      0.000000     0.000000     0.000000   \n",
       "75%       0.000000      0.000000     0.000000     0.000000   \n",
       "max       1.000000      1.000000     1.000000     1.000000   \n",
       "\n",
       "       total_sharks_invested  amount_per_shark  equity_per_shark  \n",
       "count             117.000000        117.000000        117.000000  \n",
       "mean                1.230769         18.132481          5.583590  \n",
       "std                 1.410457         23.588682         10.803799  \n",
       "min                 0.000000          0.000000          0.000000  \n",
       "25%                 0.000000          0.000000          0.000000  \n",
       "50%                 1.000000         10.000000          1.250000  \n",
       "75%                 2.000000         25.000000          6.000000  \n",
       "max                 5.000000        100.000000         75.000000  \n",
       "\n",
       "[8 rows x 26 columns]"
      ]
     },
     "execution_count": 13,
     "metadata": {},
     "output_type": "execute_result"
    }
   ],
   "source": [
    "df.describe()"
   ]
  },
  {
   "cell_type": "markdown",
   "id": "f8e2254b",
   "metadata": {},
   "source": [
    "Here are the some statistics using Describe Function"
   ]
  },
  {
   "cell_type": "markdown",
   "id": "d47362fb",
   "metadata": {},
   "source": [
    "# Status of Deal"
   ]
  },
  {
   "cell_type": "code",
   "execution_count": 14,
   "id": "cde48e21",
   "metadata": {},
   "outputs": [
    {
     "data": {
      "text/plain": [
       "1    65\n",
       "0    52\n",
       "Name: deal, dtype: int64"
      ]
     },
     "execution_count": 14,
     "metadata": {},
     "output_type": "execute_result"
    }
   ],
   "source": [
    "dc=df['deal'].value_counts()\n",
    "dc"
   ]
  },
  {
   "cell_type": "code",
   "execution_count": 15,
   "id": "6bb6f68d",
   "metadata": {},
   "outputs": [
    {
     "data": {
      "text/plain": [
       "Text(0.5, 1.0, 'Deal')"
      ]
     },
     "execution_count": 15,
     "metadata": {},
     "output_type": "execute_result"
    },
    {
     "data": {
      "image/png": "[encoded data removed]",
      "text/plain": [
       "<Figure size 432x288 with 1 Axes>"
      ]
     },
     "metadata": {
      "needs_background": "light"
     },
     "output_type": "display_data"
    }
   ],
   "source": [
    "df.deal.value_counts().plot.bar(color=\"r\",xlabel=\"Status of Deal \",ylabel=\"No. Of Deal\")\n",
    "plt.title('Deal')"
   ]
  },
  {
   "cell_type": "markdown",
   "id": "3993cc77",
   "metadata": {},
   "source": [
    "# Present of Sharks"
   ]
  },
  {
   "cell_type": "code",
   "execution_count": 16,
   "id": "9cee95d5",
   "metadata": {},
   "outputs": [
    {
     "data": {
      "text/plain": [
       "1    98\n",
       "0    19\n",
       "Name: ashneer_present, dtype: int64"
      ]
     },
     "execution_count": 16,
     "metadata": {},
     "output_type": "execute_result"
    }
   ],
   "source": [
    "df['ashneer_present'].value_counts()"
   ]
  },
  {
   "cell_type": "code",
   "execution_count": 17,
   "id": "1bb43d83",
   "metadata": {},
   "outputs": [
    {
     "data": {
      "text/plain": [
       "1    117\n",
       "Name: anupam_present, dtype: int64"
      ]
     },
     "execution_count": 17,
     "metadata": {},
     "output_type": "execute_result"
    }
   ],
   "source": [
    "df['anupam_present'].value_counts()"
   ]
  },
  {
   "cell_type": "code",
   "execution_count": 18,
   "id": "56072f4b",
   "metadata": {},
   "outputs": [
    {
     "data": {
      "text/plain": [
       "1    98\n",
       "0    19\n",
       "Name: aman_present, dtype: int64"
      ]
     },
     "execution_count": 18,
     "metadata": {},
     "output_type": "execute_result"
    }
   ],
   "source": [
    "df['aman_present'].value_counts()"
   ]
  },
  {
   "cell_type": "code",
   "execution_count": 19,
   "id": "f05af601",
   "metadata": {},
   "outputs": [
    {
     "data": {
      "text/plain": [
       "1    106\n",
       "0     11\n",
       "Name: namita_present, dtype: int64"
      ]
     },
     "execution_count": 19,
     "metadata": {},
     "output_type": "execute_result"
    }
   ],
   "source": [
    "df['namita_present'].value_counts()"
   ]
  },
  {
   "cell_type": "code",
   "execution_count": 20,
   "id": "b7705d5c",
   "metadata": {},
   "outputs": [
    {
     "data": {
      "text/plain": [
       "1    66\n",
       "0    51\n",
       "Name: vineeta_present, dtype: int64"
      ]
     },
     "execution_count": 20,
     "metadata": {},
     "output_type": "execute_result"
    }
   ],
   "source": [
    "df['vineeta_present'].value_counts()"
   ]
  },
  {
   "cell_type": "code",
   "execution_count": 21,
   "id": "b112664c",
   "metadata": {},
   "outputs": [
    {
     "data": {
      "text/plain": [
       "1    88\n",
       "0    29\n",
       "Name: peyush_present, dtype: int64"
      ]
     },
     "execution_count": 21,
     "metadata": {},
     "output_type": "execute_result"
    }
   ],
   "source": [
    "df['peyush_present'].value_counts()"
   ]
  },
  {
   "cell_type": "code",
   "execution_count": 22,
   "id": "2abc38c1",
   "metadata": {},
   "outputs": [
    {
     "data": {
      "text/plain": [
       "0    91\n",
       "1    26\n",
       "Name: ghazal_present, dtype: int64"
      ]
     },
     "execution_count": 22,
     "metadata": {},
     "output_type": "execute_result"
    }
   ],
   "source": [
    "df['ghazal_present'].value_counts()"
   ]
  },
  {
   "cell_type": "code",
   "execution_count": 23,
   "id": "76624c28",
   "metadata": {},
   "outputs": [],
   "source": [
    "aman_present = len(df[df.aman_present == 1])\n",
    "anupam_present = len(df[df.anupam_present == 1])\n",
    "ashneer_present = len(df[df.ashneer_present == 1])\n",
    "ghazal_present = len(df[df.ghazal_present == 1])\n",
    "namita_present = len(df[df.namita_present == 1])\n",
    "peyush_present = len(df[df.peyush_present == 1])\n",
    "vineeta_present = len(df[df.vineeta_present == 1])\n"
   ]
  },
  {
   "cell_type": "code",
   "execution_count": 24,
   "id": "9193ab3e",
   "metadata": {},
   "outputs": [
    {
     "data": {
      "image/png": "[encoded data removed]",
      "text/plain": [
       "<Figure size 720x360 with 1 Axes>"
      ]
     },
     "metadata": {
      "needs_background": "light"
     },
     "output_type": "display_data"
    }
   ],
   "source": [
    "fig = plt.figure(figsize = (10, 5))\n",
    "present = [aman_present, anupam_present, ashneer_present, ghazal_present,\n",
    "namita_present, peyush_present, vineeta_present]\n",
    "names = ['Aman','Anupam', 'Ashneer', 'Ghazal', 'Namita', 'Peyush', 'Vineeta']\n",
    "plt.bar(names, present, color ='r')\n",
    "plt.xlabel(\"Candidate Name\")\n",
    "plt.ylabel(\"Candidate Present\")\n",
    "plt.title(\"Candidate Present vs Name\")\n",
    "plt.show()"
   ]
  },
  {
   "cell_type": "markdown",
   "id": "522c430f",
   "metadata": {},
   "source": [
    "In the given Dataset, Anupam present was Highest and Ghazal Present was very low."
   ]
  },
  {
   "cell_type": "markdown",
   "id": "f692146e",
   "metadata": {},
   "source": [
    "# Percentage of Sharks Present"
   ]
  },
  {
   "cell_type": "code",
   "execution_count": 25,
   "id": "f7e22aae",
   "metadata": {},
   "outputs": [
    {
     "data": {
      "image/png": "[encoded data removed]",
      "text/plain": [
       "<Figure size 432x288 with 1 Axes>"
      ]
     },
     "metadata": {},
     "output_type": "display_data"
    }
   ],
   "source": [
    "plt.pie(present, labels = names, radius = 2.0, autopct = '%0.1f%%')\n",
    "plt.suptitle('Percentage of candidates present',\n",
    "y = 1.15, color = 'red')\n",
    "plt.show()\n"
   ]
  },
  {
   "cell_type": "markdown",
   "id": "57c6af73",
   "metadata": {},
   "source": [
    "The present percentage of sharks is 19.5%, 16.4%, 4.3%, 17.7%, 14.7%, 11.0%, 16.4% respect to Anupam, Ashneer, Ghazal, Namita, Peyush,Vineeta."
   ]
  },
  {
   "cell_type": "markdown",
   "id": "e1ada6ba",
   "metadata": {},
   "source": [
    "# Deal Done by Sharks"
   ]
  },
  {
   "cell_type": "code",
   "execution_count": 26,
   "id": "bdf60f07",
   "metadata": {},
   "outputs": [
    {
     "data": {
      "text/plain": [
       "0    96\n",
       "1    21\n",
       "Name: ashneer_deal, dtype: int64"
      ]
     },
     "execution_count": 26,
     "metadata": {},
     "output_type": "execute_result"
    }
   ],
   "source": [
    "df['ashneer_deal'].value_counts()"
   ]
  },
  {
   "cell_type": "code",
   "execution_count": 27,
   "id": "33d40de8",
   "metadata": {},
   "outputs": [
    {
     "data": {
      "text/plain": [
       "0    89\n",
       "1    28\n",
       "Name: aman_deal, dtype: int64"
      ]
     },
     "execution_count": 27,
     "metadata": {},
     "output_type": "execute_result"
    }
   ],
   "source": [
    "df['aman_deal'].value_counts()"
   ]
  },
  {
   "cell_type": "code",
   "execution_count": 28,
   "id": "d22819fc",
   "metadata": {},
   "outputs": [
    {
     "data": {
      "text/plain": [
       "0    93\n",
       "1    24\n",
       "Name: anupam_deal, dtype: int64"
      ]
     },
     "execution_count": 28,
     "metadata": {},
     "output_type": "execute_result"
    }
   ],
   "source": [
    "df['anupam_deal'].value_counts()"
   ]
  },
  {
   "cell_type": "code",
   "execution_count": 29,
   "id": "544a41d7",
   "metadata": {},
   "outputs": [
    {
     "data": {
      "text/plain": [
       "0    95\n",
       "1    22\n",
       "Name: namita_deal, dtype: int64"
      ]
     },
     "execution_count": 29,
     "metadata": {},
     "output_type": "execute_result"
    }
   ],
   "source": [
    "df['namita_deal'].value_counts()"
   ]
  },
  {
   "cell_type": "code",
   "execution_count": 30,
   "id": "b72d8644",
   "metadata": {},
   "outputs": [
    {
     "data": {
      "text/plain": [
       "0    102\n",
       "1     15\n",
       "Name: vineeta_deal, dtype: int64"
      ]
     },
     "execution_count": 30,
     "metadata": {},
     "output_type": "execute_result"
    }
   ],
   "source": [
    "df['vineeta_deal'].value_counts()"
   ]
  },
  {
   "cell_type": "code",
   "execution_count": 31,
   "id": "4cb39651",
   "metadata": {},
   "outputs": [
    {
     "data": {
      "text/plain": [
       "0    90\n",
       "1    27\n",
       "Name: peyush_deal, dtype: int64"
      ]
     },
     "execution_count": 31,
     "metadata": {},
     "output_type": "execute_result"
    }
   ],
   "source": [
    "df['peyush_deal'].value_counts()"
   ]
  },
  {
   "cell_type": "code",
   "execution_count": 32,
   "id": "89d32470",
   "metadata": {},
   "outputs": [
    {
     "data": {
      "text/plain": [
       "0    110\n",
       "1      7\n",
       "Name: ghazal_deal, dtype: int64"
      ]
     },
     "execution_count": 32,
     "metadata": {},
     "output_type": "execute_result"
    }
   ],
   "source": [
    "df['ghazal_deal'].value_counts()"
   ]
  },
  {
   "cell_type": "code",
   "execution_count": 33,
   "id": "ff113ddd",
   "metadata": {},
   "outputs": [],
   "source": [
    "aman_deal = len(df[df.aman_deal == 1])\n",
    "anupam_deal = len(df[df.anupam_deal == 1])\n",
    "ashneer_deal = len(df[df.ashneer_deal == 1])\n",
    "ghazal_deal = len(df[df.ghazal_deal == 1])\n",
    "namita_deal = len(df[df.namita_deal == 1])\n",
    "peyush_deal = len(df[df.peyush_deal == 1])\n",
    "vineeta_deal = len(df[df.vineeta_deal == 1])\n"
   ]
  },
  {
   "cell_type": "code",
   "execution_count": 34,
   "id": "83d1664b",
   "metadata": {},
   "outputs": [
    {
     "data": {
      "image/png": "[encoded data removed]",
      "text/plain": [
       "<Figure size 720x360 with 1 Axes>"
      ]
     },
     "metadata": {
      "needs_background": "light"
     },
     "output_type": "display_data"
    }
   ],
   "source": [
    "fig = plt.figure(figsize = (10, 5))\n",
    "deal = [aman_deal, anupam_deal, ashneer_deal, ghazal_deal,\n",
    "namita_deal, peyush_deal, vineeta_deal]\n",
    "names = ['Aman','Anupam', 'Ashneer', 'Ghazal', 'Namita', 'Peyush', 'Vineeta']\n",
    "plt.bar(names, present, color ='r')\n",
    "plt.xlabel(\"Candidate Name\")\n",
    "plt.ylabel(\"Candidate Deal\")\n",
    "plt.title(\"Candidate Deal vs Name\")\n",
    "plt.show()"
   ]
  },
  {
   "cell_type": "markdown",
   "id": "4463d2e0",
   "metadata": {},
   "source": [
    "The highest Deal Done by Anupam and Namita and minimum deal done by Ghazal"
   ]
  },
  {
   "cell_type": "markdown",
   "id": "a8fd6c61",
   "metadata": {},
   "source": [
    "# Percentage of Deal Done by Sharks"
   ]
  },
  {
   "cell_type": "code",
   "execution_count": 35,
   "id": "4a579aa2",
   "metadata": {},
   "outputs": [
    {
     "data": {
      "image/png": "[encoded data removed]",
      "text/plain": [
       "<Figure size 432x288 with 1 Axes>"
      ]
     },
     "metadata": {},
     "output_type": "display_data"
    }
   ],
   "source": [
    "plt.pie(deal, labels = names, radius = 2.0, autopct = '%0.1f%%')\n",
    "plt.suptitle('Percentage of Deal Done by Sharks',y = 1.15, color = 'red')\n",
    "plt.show()\n"
   ]
  },
  {
   "cell_type": "markdown",
   "id": "4bacab7a",
   "metadata": {},
   "source": [
    "The Highest percentage  of deal done by Aman and Anupam"
   ]
  },
  {
   "cell_type": "markdown",
   "id": "efa8b8e3",
   "metadata": {},
   "source": [
    "# Number of pitches delivered in Season 1"
   ]
  },
  {
   "cell_type": "code",
   "execution_count": 36,
   "id": "82d8cb36",
   "metadata": {},
   "outputs": [
    {
     "data": {
      "text/plain": [
       "117"
      ]
     },
     "execution_count": 36,
     "metadata": {},
     "output_type": "execute_result"
    }
   ],
   "source": [
    "df['pitch_number'].nunique()"
   ]
  },
  {
   "cell_type": "markdown",
   "id": "4186511a",
   "metadata": {},
   "source": [
    "Total 117 Number of pitches are presented in the season 1"
   ]
  },
  {
   "cell_type": "markdown",
   "id": "e2dda556",
   "metadata": {},
   "source": [
    "# Presented Brand in  Shark Tank of India"
   ]
  },
  {
   "cell_type": "code",
   "execution_count": 37,
   "id": "ecdb3c95",
   "metadata": {},
   "outputs": [
    {
     "data": {
      "text/plain": [
       "array(['BluePine Industries', 'Booz scooters', 'Heart up my Sleeves',\n",
       "       'Tagz Foods', 'Head and Heart', 'Agro tourism', 'Qzense Labs',\n",
       "       'Peeschute', 'NOCD', 'Cosiq', 'JhaJi Achaar', 'Bummer',\n",
       "       'Revamp Moto', 'Hungry Heads', 'Shrawani Engineers', 'Skippi Pops',\n",
       "       'Menstrupedia', 'Hecolll', 'Raising Superstars', 'Torch-it',\n",
       "       'La Kheer Deli', 'Beyond Snack', 'Vivalyf Innovations- Easy Life',\n",
       "       'Motion Breeze', 'Altor', 'Ariro', 'Kabira Handmade', 'Nuutjob',\n",
       "       'Meatyour', 'EventBeep', \"Gopal's 56\", 'ARRCOAT Surface Textures',\n",
       "       'Farda', 'Auli Lifestyle', 'SweeDesi', 'LOKA', 'Annie',\n",
       "       'Caragreen', 'The Yarn Bazaar', 'The Renal Project',\n",
       "       'Morikko Pure Foods', 'Good Good Piggy Bank', 'Hammer Lifestyle',\n",
       "       'PNT', 'Cocofit', 'Bamboo India', 'Flying Furr', 'Beyond Water',\n",
       "       \"Let's Try\", 'Find Your Kicks India', 'Aas Vidyalaya', 'Outbox',\n",
       "       'RoadBounce', \"Mommy's Kitchen\", 'India Hemp and Co', 'Otua',\n",
       "       'Anthyesti', 'Ethik', 'WeSTOCK', 'KetoIndia', 'Magic lock',\n",
       "       'The State Plate', 'Bakarmax', 'IN A CAN', 'Get a Whey',\n",
       "       'Sid07 Designs', 'The Quirky Nari', 'Hair Originals',\n",
       "       'Poo de Cologne', 'Moonshine Meads', 'Falhari', 'Namhya Foods',\n",
       "       'Urban Monkey', 'Guardian Gears', 'Modern Myth', 'The Sass Bar',\n",
       "       'KG Agrotech', 'Nuskha Kitchen', 'PawsIndia',\n",
       "       'Sunfox Technologies', 'Alpino', 'Isak Fragrances',\n",
       "       'Julaa Automation', 'Rare Planet', 'Theka Coffee',\n",
       "       'Watt Technovations', 'Aliste Technologies', 'Insurance Samadhan',\n",
       "       'Humpy A2', 'Kunafa World', 'Gold Safe Solutions Ind.',\n",
       "       'Wakao Foods', 'PDD Falcon', 'PlayBox TV',\n",
       "       'Sippline Drinking Shields', 'Kabaddi Adda', 'Shades of Spring',\n",
       "       'Scholify', 'Scrapshala', 'Sabjikothi', 'AyuRythm', 'Astrix',\n",
       "       'Thea and Sid', 'Experential Etc', 'GrowFitter', 'Med Tech',\n",
       "       'Colour Me Mad', \"Mavi's\", 'Tweek Labs', 'Proxgy',\n",
       "       'Nomad Food Project', 'Twee in One', 'Green Protein', 'On2Cook',\n",
       "       'Jain Shikanji', 'Woloo', 'Elcare India'], dtype=object)"
      ]
     },
     "execution_count": 37,
     "metadata": {},
     "output_type": "execute_result"
    }
   ],
   "source": [
    "df['brand_name'].unique()"
   ]
  },
  {
   "cell_type": "markdown",
   "id": "c891daa0",
   "metadata": {},
   "source": [
    "In The above Dataset Following are the presented\n",
    "\n",
    "       'BluePine Industries', 'Booz scooters', 'Heart up my Sleeves',\n",
    "       'Tagz Foods', 'Head and Heart', 'Agro tourism', 'Qzense Labs',\n",
    "       'Peeschute', 'NOCD', 'Cosiq', 'JhaJi Achaar', 'Bummer',\n",
    "       'Revamp Moto', 'Hungry Heads', 'Shrawani Engineers', 'Skippi Pops',\n",
    "       'Menstrupedia', 'Hecolll', 'Raising Superstars', 'Torch-it',\n",
    "       'La Kheer Deli', 'Beyond Snack', 'Vivalyf Innovations- Easy Life',\n",
    "       'Motion Breeze', 'Altor', 'Ariro', 'Kabira Handmade', 'Nuutjob',\n",
    "       'Meatyour', 'EventBeep', \"Gopal's 56\", 'ARRCOAT Surface Textures',\n",
    "       'Farda', 'Auli Lifestyle', 'SweeDesi', 'LOKA', 'Annie',\n",
    "       'Caragreen', 'The Yarn Bazaar', 'The Renal Project',\n",
    "       'Morikko Pure Foods', 'Good Good Piggy Bank', 'Hammer Lifestyle',\n",
    "       'PNT', 'Cocofit', 'Bamboo India', 'Flying Furr', 'Beyond Water',\n",
    "       \"Let's Try\", 'Find Your Kicks India', 'Aas Vidyalaya', 'Outbox',\n",
    "       'RoadBounce', \"Mommy's Kitchen\", 'India Hemp and Co', 'Otua',\n",
    "       'Anthyesti', 'Ethik', 'WeSTOCK', 'KetoIndia', 'Magic lock',\n",
    "       'The State Plate', 'Bakarmax', 'IN A CAN', 'Get a Whey',\n",
    "       'Sid07 Designs', 'The Quirky Nari', 'Hair Originals',\n",
    "       'Poo de Cologne', 'Moonshine Meads', 'Falhari', 'Namhya Foods',\n",
    "       'Urban Monkey', 'Guardian Gears', 'Modern Myth', 'The Sass Bar',\n",
    "       'KG Agrotech', 'Nuskha Kitchen', 'PawsIndia',\n",
    "       'Sunfox Technologies', 'Alpino', 'Isak Fragrances',\n",
    "       'Julaa Automation', 'Rare Planet', 'Theka Coffee',\n",
    "       'Watt Technovations', 'Aliste Technologies', 'Insurance Samadhan',\n",
    "       'Humpy A2', 'Kunafa World', 'Gold Safe Solutions Ind.',\n",
    "       'Wakao Foods', 'PDD Falcon', 'PlayBox TV',\n",
    "       'Sippline Drinking Shields', 'Kabaddi Adda', 'Shades of Spring',\n",
    "       'Scholify', 'Scrapshala', 'Sabjikothi', 'AyuRythm', 'Astrix',\n",
    "       'Thea and Sid', 'Experential Etc', 'GrowFitter', 'Med Tech',\n",
    "       'Colour Me Mad', \"Mavi's\", 'Tweek Labs', 'Proxgy',\n",
    "       'Nomad Food Project', 'Twee in One', 'Green Protein', 'On2Cook',\n",
    "       'Jain Shikanji', 'Woloo', 'Elcare India'"
   ]
  },
  {
   "cell_type": "markdown",
   "id": "aae1611f",
   "metadata": {},
   "source": [
    "# Highest Amount ask by Pitcher"
   ]
  },
  {
   "cell_type": "code",
   "execution_count": 38,
   "id": "69e9e74b",
   "metadata": {},
   "outputs": [
    {
     "data": {
      "text/plain": [
       "episode_number                        11\n",
       "pitch_number                          31\n",
       "brand_name                    Gopal's 56\n",
       "idea                     Fiber Ice Cream\n",
       "deal                                   0\n",
       "pitcher_ask_amount               30000.0\n",
       "ask_equity                          25.0\n",
       "ask_valuation                   120000.0\n",
       "deal_amount                          0.0\n",
       "deal_equity                          0.0\n",
       "deal_valuation                       0.0\n",
       "ashneer_present                        1\n",
       "anupam_present                         1\n",
       "aman_present                           1\n",
       "namita_present                         1\n",
       "vineeta_present                        0\n",
       "peyush_present                         1\n",
       "ghazal_present                         0\n",
       "ashneer_deal                           0\n",
       "anupam_deal                            0\n",
       "aman_deal                              0\n",
       "namita_deal                            0\n",
       "vineeta_deal                           0\n",
       "peyush_deal                            0\n",
       "ghazal_deal                            0\n",
       "total_sharks_invested                  0\n",
       "amount_per_shark                     0.0\n",
       "equity_per_shark                     0.0\n",
       "Name: 30, dtype: object"
      ]
     },
     "execution_count": 38,
     "metadata": {},
     "output_type": "execute_result"
    }
   ],
   "source": [
    "df.iloc[df['pitcher_ask_amount'].idxmax()]"
   ]
  },
  {
   "cell_type": "markdown",
   "id": "4cb22610",
   "metadata": {},
   "source": [
    "# Lowest Amount Ask by pitcher"
   ]
  },
  {
   "cell_type": "code",
   "execution_count": 39,
   "id": "f25093b4",
   "metadata": {},
   "outputs": [
    {
     "data": {
      "text/plain": [
       "episode_number                            27\n",
       "pitch_number                              86\n",
       "brand_name                Watt Technovations\n",
       "idea                     Ventilated PPE Kits\n",
       "deal                                       1\n",
       "pitcher_ask_amount                   0.00101\n",
       "ask_equity                              10.0\n",
       "ask_valuation                           0.01\n",
       "deal_amount                          0.00101\n",
       "deal_equity                              4.0\n",
       "deal_valuation                          0.03\n",
       "ashneer_present                            0\n",
       "anupam_present                             1\n",
       "aman_present                               0\n",
       "namita_present                             1\n",
       "vineeta_present                            1\n",
       "peyush_present                             1\n",
       "ghazal_present                             1\n",
       "ashneer_deal                               0\n",
       "anupam_deal                                1\n",
       "aman_deal                                  0\n",
       "namita_deal                                1\n",
       "vineeta_deal                               0\n",
       "peyush_deal                                1\n",
       "ghazal_deal                                1\n",
       "total_sharks_invested                      4\n",
       "amount_per_shark                    0.000253\n",
       "equity_per_shark                         1.0\n",
       "Name: 85, dtype: object"
      ]
     },
     "execution_count": 39,
     "metadata": {},
     "output_type": "execute_result"
    }
   ],
   "source": [
    "df.iloc[df['pitcher_ask_amount'].idxmin()]"
   ]
  },
  {
   "cell_type": "markdown",
   "id": "070a9992",
   "metadata": {},
   "source": [
    "# Highest Equity Ask"
   ]
  },
  {
   "cell_type": "code",
   "execution_count": 40,
   "id": "e15cec12",
   "metadata": {},
   "outputs": [
    {
     "data": {
      "text/plain": [
       "episode_number                        11\n",
       "pitch_number                          31\n",
       "brand_name                    Gopal's 56\n",
       "idea                     Fiber Ice Cream\n",
       "deal                                   0\n",
       "pitcher_ask_amount               30000.0\n",
       "ask_equity                          25.0\n",
       "ask_valuation                   120000.0\n",
       "deal_amount                          0.0\n",
       "deal_equity                          0.0\n",
       "deal_valuation                       0.0\n",
       "ashneer_present                        1\n",
       "anupam_present                         1\n",
       "aman_present                           1\n",
       "namita_present                         1\n",
       "vineeta_present                        0\n",
       "peyush_present                         1\n",
       "ghazal_present                         0\n",
       "ashneer_deal                           0\n",
       "anupam_deal                            0\n",
       "aman_deal                              0\n",
       "namita_deal                            0\n",
       "vineeta_deal                           0\n",
       "peyush_deal                            0\n",
       "ghazal_deal                            0\n",
       "total_sharks_invested                  0\n",
       "amount_per_shark                     0.0\n",
       "equity_per_shark                     0.0\n",
       "Name: 30, dtype: object"
      ]
     },
     "execution_count": 40,
     "metadata": {},
     "output_type": "execute_result"
    }
   ],
   "source": [
    "df.iloc[df['ask_equity'].idxmax()]"
   ]
  },
  {
   "cell_type": "markdown",
   "id": "79af327f",
   "metadata": {},
   "source": [
    "# lowest Equity Ask"
   ]
  },
  {
   "cell_type": "code",
   "execution_count": 41,
   "id": "39c99c99",
   "metadata": {},
   "outputs": [
    {
     "data": {
      "text/plain": [
       "episode_number                                 3\n",
       "pitch_number                                   7\n",
       "brand_name                           Qzense Labs\n",
       "idea                     Food Freshness Detector\n",
       "deal                                           0\n",
       "pitcher_ask_amount                         100.0\n",
       "ask_equity                                  0.25\n",
       "ask_valuation                            40000.0\n",
       "deal_amount                                  0.0\n",
       "deal_equity                                  0.0\n",
       "deal_valuation                               0.0\n",
       "ashneer_present                                1\n",
       "anupam_present                                 1\n",
       "aman_present                                   1\n",
       "namita_present                                 1\n",
       "vineeta_present                                1\n",
       "peyush_present                                 0\n",
       "ghazal_present                                 0\n",
       "ashneer_deal                                   0\n",
       "anupam_deal                                    0\n",
       "aman_deal                                      0\n",
       "namita_deal                                    0\n",
       "vineeta_deal                                   0\n",
       "peyush_deal                                    0\n",
       "ghazal_deal                                    0\n",
       "total_sharks_invested                          0\n",
       "amount_per_shark                             0.0\n",
       "equity_per_shark                             0.0\n",
       "Name: 6, dtype: object"
      ]
     },
     "execution_count": 41,
     "metadata": {},
     "output_type": "execute_result"
    }
   ],
   "source": [
    "df.iloc[df['ask_equity'].idxmin()]"
   ]
  },
  {
   "cell_type": "markdown",
   "id": "d53e5837",
   "metadata": {},
   "source": [
    "# Highest Valuation Ask "
   ]
  },
  {
   "cell_type": "code",
   "execution_count": 42,
   "id": "ac8013f6",
   "metadata": {},
   "outputs": [
    {
     "data": {
      "text/plain": [
       "episode_number                        11\n",
       "pitch_number                          31\n",
       "brand_name                    Gopal's 56\n",
       "idea                     Fiber Ice Cream\n",
       "deal                                   0\n",
       "pitcher_ask_amount               30000.0\n",
       "ask_equity                          25.0\n",
       "ask_valuation                   120000.0\n",
       "deal_amount                          0.0\n",
       "deal_equity                          0.0\n",
       "deal_valuation                       0.0\n",
       "ashneer_present                        1\n",
       "anupam_present                         1\n",
       "aman_present                           1\n",
       "namita_present                         1\n",
       "vineeta_present                        0\n",
       "peyush_present                         1\n",
       "ghazal_present                         0\n",
       "ashneer_deal                           0\n",
       "anupam_deal                            0\n",
       "aman_deal                              0\n",
       "namita_deal                            0\n",
       "vineeta_deal                           0\n",
       "peyush_deal                            0\n",
       "ghazal_deal                            0\n",
       "total_sharks_invested                  0\n",
       "amount_per_shark                     0.0\n",
       "equity_per_shark                     0.0\n",
       "Name: 30, dtype: object"
      ]
     },
     "execution_count": 42,
     "metadata": {},
     "output_type": "execute_result"
    }
   ],
   "source": [
    "df.iloc[df['ask_valuation'].idxmax()]"
   ]
  },
  {
   "cell_type": "markdown",
   "id": "986646ab",
   "metadata": {},
   "source": [
    "# Lowest Valuation ask"
   ]
  },
  {
   "cell_type": "code",
   "execution_count": 43,
   "id": "d20ca124",
   "metadata": {},
   "outputs": [
    {
     "data": {
      "text/plain": [
       "episode_number                            27\n",
       "pitch_number                              86\n",
       "brand_name                Watt Technovations\n",
       "idea                     Ventilated PPE Kits\n",
       "deal                                       1\n",
       "pitcher_ask_amount                   0.00101\n",
       "ask_equity                              10.0\n",
       "ask_valuation                           0.01\n",
       "deal_amount                          0.00101\n",
       "deal_equity                              4.0\n",
       "deal_valuation                          0.03\n",
       "ashneer_present                            0\n",
       "anupam_present                             1\n",
       "aman_present                               0\n",
       "namita_present                             1\n",
       "vineeta_present                            1\n",
       "peyush_present                             1\n",
       "ghazal_present                             1\n",
       "ashneer_deal                               0\n",
       "anupam_deal                                1\n",
       "aman_deal                                  0\n",
       "namita_deal                                1\n",
       "vineeta_deal                               0\n",
       "peyush_deal                                1\n",
       "ghazal_deal                                1\n",
       "total_sharks_invested                      4\n",
       "amount_per_shark                    0.000253\n",
       "equity_per_shark                         1.0\n",
       "Name: 85, dtype: object"
      ]
     },
     "execution_count": 43,
     "metadata": {},
     "output_type": "execute_result"
    }
   ],
   "source": [
    "df.iloc[df['ask_valuation'].idxmin()]"
   ]
  },
  {
   "cell_type": "markdown",
   "id": "dd7452db",
   "metadata": {},
   "source": [
    "# Highest Deal amount"
   ]
  },
  {
   "cell_type": "code",
   "execution_count": 44,
   "id": "42826345",
   "metadata": {},
   "outputs": [
    {
     "data": {
      "text/plain": [
       "episode_number                      17\n",
       "pitch_number                        51\n",
       "brand_name               Aas Vidyalaya\n",
       "idea                        EdTech App\n",
       "deal                                 1\n",
       "pitcher_ask_amount               150.0\n",
       "ask_equity                         3.0\n",
       "ask_valuation                   5000.0\n",
       "deal_amount                      150.0\n",
       "deal_equity                       15.0\n",
       "deal_valuation                  1000.0\n",
       "ashneer_present                      1\n",
       "anupam_present                       1\n",
       "aman_present                         1\n",
       "namita_present                       1\n",
       "vineeta_present                      0\n",
       "peyush_present                       1\n",
       "ghazal_present                       0\n",
       "ashneer_deal                         1\n",
       "anupam_deal                          0\n",
       "aman_deal                            0\n",
       "namita_deal                          1\n",
       "vineeta_deal                         0\n",
       "peyush_deal                          1\n",
       "ghazal_deal                          0\n",
       "total_sharks_invested                3\n",
       "amount_per_shark                  50.0\n",
       "equity_per_shark                   5.0\n",
       "Name: 50, dtype: object"
      ]
     },
     "execution_count": 44,
     "metadata": {},
     "output_type": "execute_result"
    }
   ],
   "source": [
    "df.iloc[df['deal_amount'].idxmax()]"
   ]
  },
  {
   "cell_type": "markdown",
   "id": "deda15c4",
   "metadata": {},
   "source": [
    "# lowest Deal Amount"
   ]
  },
  {
   "cell_type": "code",
   "execution_count": 45,
   "id": "947f46c3",
   "metadata": {},
   "outputs": [
    {
     "data": {
      "text/plain": [
       "episode_number                                  2\n",
       "pitch_number                                    5\n",
       "brand_name                         Head and Heart\n",
       "idea                     Brain Development Course\n",
       "deal                                            0\n",
       "pitcher_ask_amount                           50.0\n",
       "ask_equity                                    5.0\n",
       "ask_valuation                              1000.0\n",
       "deal_amount                                   0.0\n",
       "deal_equity                                   0.0\n",
       "deal_valuation                                0.0\n",
       "ashneer_present                                 1\n",
       "anupam_present                                  1\n",
       "aman_present                                    1\n",
       "namita_present                                  1\n",
       "vineeta_present                                 1\n",
       "peyush_present                                  0\n",
       "ghazal_present                                  0\n",
       "ashneer_deal                                    0\n",
       "anupam_deal                                     0\n",
       "aman_deal                                       0\n",
       "namita_deal                                     0\n",
       "vineeta_deal                                    0\n",
       "peyush_deal                                     0\n",
       "ghazal_deal                                     0\n",
       "total_sharks_invested                           0\n",
       "amount_per_shark                              0.0\n",
       "equity_per_shark                              0.0\n",
       "Name: 4, dtype: object"
      ]
     },
     "execution_count": 45,
     "metadata": {},
     "output_type": "execute_result"
    }
   ],
   "source": [
    "df.iloc[df['deal_amount'].idxmin()]"
   ]
  },
  {
   "cell_type": "markdown",
   "id": "7e0acd05",
   "metadata": {},
   "source": [
    "# Highest Equity Offered"
   ]
  },
  {
   "cell_type": "code",
   "execution_count": 46,
   "id": "2c545bd7",
   "metadata": {},
   "outputs": [
    {
     "data": {
      "text/plain": [
       "episode_number                      21\n",
       "pitch_number                        66\n",
       "brand_name               Sid07 Designs\n",
       "idea                        Inventions\n",
       "deal                                 1\n",
       "pitcher_ask_amount                47.0\n",
       "ask_equity                        10.0\n",
       "ask_valuation                    470.0\n",
       "deal_amount                       25.0\n",
       "deal_equity                       75.0\n",
       "deal_valuation                   33.33\n",
       "ashneer_present                      1\n",
       "anupam_present                       1\n",
       "aman_present                         1\n",
       "namita_present                       0\n",
       "vineeta_present                      1\n",
       "peyush_present                       1\n",
       "ghazal_present                       0\n",
       "ashneer_deal                         0\n",
       "anupam_deal                          0\n",
       "aman_deal                            0\n",
       "namita_deal                          0\n",
       "vineeta_deal                         0\n",
       "peyush_deal                          1\n",
       "ghazal_deal                          0\n",
       "total_sharks_invested                1\n",
       "amount_per_shark                  25.0\n",
       "equity_per_shark                  75.0\n",
       "Name: 65, dtype: object"
      ]
     },
     "execution_count": 46,
     "metadata": {},
     "output_type": "execute_result"
    }
   ],
   "source": [
    "df.iloc[df['deal_equity'].idxmax()]"
   ]
  },
  {
   "cell_type": "markdown",
   "id": "772016a5",
   "metadata": {},
   "source": [
    "# Lowest Equity offered"
   ]
  },
  {
   "cell_type": "code",
   "execution_count": 47,
   "id": "0dc4e72e",
   "metadata": {},
   "outputs": [
    {
     "data": {
      "text/plain": [
       "episode_number                                  2\n",
       "pitch_number                                    5\n",
       "brand_name                         Head and Heart\n",
       "idea                     Brain Development Course\n",
       "deal                                            0\n",
       "pitcher_ask_amount                           50.0\n",
       "ask_equity                                    5.0\n",
       "ask_valuation                              1000.0\n",
       "deal_amount                                   0.0\n",
       "deal_equity                                   0.0\n",
       "deal_valuation                                0.0\n",
       "ashneer_present                                 1\n",
       "anupam_present                                  1\n",
       "aman_present                                    1\n",
       "namita_present                                  1\n",
       "vineeta_present                                 1\n",
       "peyush_present                                  0\n",
       "ghazal_present                                  0\n",
       "ashneer_deal                                    0\n",
       "anupam_deal                                     0\n",
       "aman_deal                                       0\n",
       "namita_deal                                     0\n",
       "vineeta_deal                                    0\n",
       "peyush_deal                                     0\n",
       "ghazal_deal                                     0\n",
       "total_sharks_invested                           0\n",
       "amount_per_shark                              0.0\n",
       "equity_per_shark                              0.0\n",
       "Name: 4, dtype: object"
      ]
     },
     "execution_count": 47,
     "metadata": {},
     "output_type": "execute_result"
    }
   ],
   "source": [
    "df.iloc[df['deal_equity'].idxmin()]"
   ]
  },
  {
   "cell_type": "markdown",
   "id": "d2281cd6",
   "metadata": {},
   "source": [
    "# Number of  Sharks Invested"
   ]
  },
  {
   "cell_type": "code",
   "execution_count": 48,
   "id": "70022164",
   "metadata": {},
   "outputs": [
    {
     "data": {
      "text/plain": [
       "0    52\n",
       "1    22\n",
       "2    20\n",
       "3    14\n",
       "4     5\n",
       "5     4\n",
       "Name: total_sharks_invested, dtype: int64"
      ]
     },
     "execution_count": 48,
     "metadata": {},
     "output_type": "execute_result"
    }
   ],
   "source": [
    "df['total_sharks_invested'].value_counts()"
   ]
  },
  {
   "cell_type": "code",
   "execution_count": 49,
   "id": "157d4d71",
   "metadata": {},
   "outputs": [
    {
     "data": {
      "text/plain": [
       "Text(0.5, 1.0, 'No of Sharks vs Deal')"
      ]
     },
     "execution_count": 49,
     "metadata": {},
     "output_type": "execute_result"
    },
    {
     "data": {
      "image/png": "[encoded data removed]",
      "text/plain": [
       "<Figure size 432x288 with 1 Axes>"
      ]
     },
     "metadata": {
      "needs_background": "light"
     },
     "output_type": "display_data"
    }
   ],
   "source": [
    "df.total_sharks_invested.value_counts().plot.bar(color=\"r\",xlabel=\"No. of Sharks \",ylabel=\"Deal\")\n",
    "plt.title('No of Sharks vs Deal')"
   ]
  },
  {
   "cell_type": "markdown",
   "id": "8d09ceb0",
   "metadata": {},
   "source": [
    "The above visualization is all about No. Of sharks invested with respect to deal"
   ]
  },
  {
   "cell_type": "markdown",
   "id": "7d91c06b",
   "metadata": {},
   "source": [
    "# Highest amount Per Sharks"
   ]
  },
  {
   "cell_type": "code",
   "execution_count": 50,
   "id": "582b0721",
   "metadata": {},
   "outputs": [
    {
     "data": {
      "text/plain": [
       "episode_number                             15\n",
       "pitch_number                               43\n",
       "brand_name                   Hammer Lifestyle\n",
       "idea                     Smart Audio Products\n",
       "deal                                        1\n",
       "pitcher_ask_amount                       30.0\n",
       "ask_equity                                3.0\n",
       "ask_valuation                          1000.0\n",
       "deal_amount                             100.0\n",
       "deal_equity                              40.0\n",
       "deal_valuation                          250.0\n",
       "ashneer_present                             1\n",
       "anupam_present                              1\n",
       "aman_present                                1\n",
       "namita_present                              1\n",
       "vineeta_present                             0\n",
       "peyush_present                              1\n",
       "ghazal_present                              0\n",
       "ashneer_deal                                0\n",
       "anupam_deal                                 0\n",
       "aman_deal                                   1\n",
       "namita_deal                                 0\n",
       "vineeta_deal                                0\n",
       "peyush_deal                                 0\n",
       "ghazal_deal                                 0\n",
       "total_sharks_invested                       1\n",
       "amount_per_shark                        100.0\n",
       "equity_per_shark                         40.0\n",
       "Name: 42, dtype: object"
      ]
     },
     "execution_count": 50,
     "metadata": {},
     "output_type": "execute_result"
    }
   ],
   "source": [
    "df.iloc[df['amount_per_shark'].idxmax()]"
   ]
  },
  {
   "cell_type": "markdown",
   "id": "2b54c05a",
   "metadata": {},
   "source": [
    "# Lowest amount per Sharks"
   ]
  },
  {
   "cell_type": "code",
   "execution_count": 51,
   "id": "24706916",
   "metadata": {},
   "outputs": [
    {
     "data": {
      "text/plain": [
       "episode_number                                  2\n",
       "pitch_number                                    5\n",
       "brand_name                         Head and Heart\n",
       "idea                     Brain Development Course\n",
       "deal                                            0\n",
       "pitcher_ask_amount                           50.0\n",
       "ask_equity                                    5.0\n",
       "ask_valuation                              1000.0\n",
       "deal_amount                                   0.0\n",
       "deal_equity                                   0.0\n",
       "deal_valuation                                0.0\n",
       "ashneer_present                                 1\n",
       "anupam_present                                  1\n",
       "aman_present                                    1\n",
       "namita_present                                  1\n",
       "vineeta_present                                 1\n",
       "peyush_present                                  0\n",
       "ghazal_present                                  0\n",
       "ashneer_deal                                    0\n",
       "anupam_deal                                     0\n",
       "aman_deal                                       0\n",
       "namita_deal                                     0\n",
       "vineeta_deal                                    0\n",
       "peyush_deal                                     0\n",
       "ghazal_deal                                     0\n",
       "total_sharks_invested                           0\n",
       "amount_per_shark                              0.0\n",
       "equity_per_shark                              0.0\n",
       "Name: 4, dtype: object"
      ]
     },
     "execution_count": 51,
     "metadata": {},
     "output_type": "execute_result"
    }
   ],
   "source": [
    "df.iloc[df['amount_per_shark'].idxmin()]"
   ]
  },
  {
   "cell_type": "markdown",
   "id": "8e442e42",
   "metadata": {},
   "source": [
    "# Highest Equity Per Shark"
   ]
  },
  {
   "cell_type": "code",
   "execution_count": 52,
   "id": "be9b106a",
   "metadata": {},
   "outputs": [
    {
     "data": {
      "text/plain": [
       "episode_number                      21\n",
       "pitch_number                        66\n",
       "brand_name               Sid07 Designs\n",
       "idea                        Inventions\n",
       "deal                                 1\n",
       "pitcher_ask_amount                47.0\n",
       "ask_equity                        10.0\n",
       "ask_valuation                    470.0\n",
       "deal_amount                       25.0\n",
       "deal_equity                       75.0\n",
       "deal_valuation                   33.33\n",
       "ashneer_present                      1\n",
       "anupam_present                       1\n",
       "aman_present                         1\n",
       "namita_present                       0\n",
       "vineeta_present                      1\n",
       "peyush_present                       1\n",
       "ghazal_present                       0\n",
       "ashneer_deal                         0\n",
       "anupam_deal                          0\n",
       "aman_deal                            0\n",
       "namita_deal                          0\n",
       "vineeta_deal                         0\n",
       "peyush_deal                          1\n",
       "ghazal_deal                          0\n",
       "total_sharks_invested                1\n",
       "amount_per_shark                  25.0\n",
       "equity_per_shark                  75.0\n",
       "Name: 65, dtype: object"
      ]
     },
     "execution_count": 52,
     "metadata": {},
     "output_type": "execute_result"
    }
   ],
   "source": [
    "df.iloc[df['equity_per_shark'].idxmax()]"
   ]
  },
  {
   "cell_type": "markdown",
   "id": "c686892b",
   "metadata": {},
   "source": [
    "# Lowest Equity Per Shark"
   ]
  },
  {
   "cell_type": "code",
   "execution_count": 53,
   "id": "d7d22b56",
   "metadata": {},
   "outputs": [
    {
     "data": {
      "text/plain": [
       "episode_number                                  2\n",
       "pitch_number                                    5\n",
       "brand_name                         Head and Heart\n",
       "idea                     Brain Development Course\n",
       "deal                                            0\n",
       "pitcher_ask_amount                           50.0\n",
       "ask_equity                                    5.0\n",
       "ask_valuation                              1000.0\n",
       "deal_amount                                   0.0\n",
       "deal_equity                                   0.0\n",
       "deal_valuation                                0.0\n",
       "ashneer_present                                 1\n",
       "anupam_present                                  1\n",
       "aman_present                                    1\n",
       "namita_present                                  1\n",
       "vineeta_present                                 1\n",
       "peyush_present                                  0\n",
       "ghazal_present                                  0\n",
       "ashneer_deal                                    0\n",
       "anupam_deal                                     0\n",
       "aman_deal                                       0\n",
       "namita_deal                                     0\n",
       "vineeta_deal                                    0\n",
       "peyush_deal                                     0\n",
       "ghazal_deal                                     0\n",
       "total_sharks_invested                           0\n",
       "amount_per_shark                              0.0\n",
       "equity_per_shark                              0.0\n",
       "Name: 4, dtype: object"
      ]
     },
     "execution_count": 53,
     "metadata": {},
     "output_type": "execute_result"
    }
   ],
   "source": [
    "df.iloc[df['equity_per_shark'].idxmin()]"
   ]
  },
  {
   "cell_type": "code",
   "execution_count": null,
   "id": "01f6ecc6",
   "metadata": {},
   "outputs": [],
   "source": []
  }
 ],
 "metadata": {
  "kernelspec": {
   "display_name": "Python 3 (ipykernel)",
   "language": "python",
   "name": "python3"
  },
  "language_info": {
   "codemirror_mode": {
    "name": "ipython",
    "version": 3
   },
   "file_extension": ".py",
   "mimetype": "text/x-python",
   "name": "python",
   "nbconvert_exporter": "python",
   "pygments_lexer": "ipython3",
   "version": "3.9.7"
  }
 },
 "nbformat": 4,
 "nbformat_minor": 5
}
